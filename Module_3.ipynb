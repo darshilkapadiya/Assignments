{
 "cells": [
  {
   "cell_type": "markdown",
   "id": "70d30b40",
   "metadata": {},
   "source": [
    "# Module 3 [Collections]Assignment"
   ]
  },
  {
   "cell_type": "markdown",
   "id": "808a69b3",
   "metadata": {},
   "source": [
    "## Topic: List\n",
    "\n",
    "## Introduction,Accessing List,OperationWorking with list,function and method"
   ]
  },
  {
   "cell_type": "markdown",
   "id": "5abb89e2",
   "metadata": {},
   "source": [
    "### Assignment Level Basic"
   ]
  },
  {
   "cell_type": "markdown",
   "id": "b81ead17",
   "metadata": {},
   "source": [
    "B1.What is List? How will you reverse a list?\n",
    "\n",
    "AnsB1 - The list is a most versatile datatype available in Python which can be written as a list of comma-separated values \n",
    "(items) between square brackets. Important thing about a list is that items in a list need not be of the same type.\n",
    "\n",
    "Reverse a list: Using the reverse() built-in function.\n",
    "Using the reverse() method we can reverse the contents of the list object in-place i.e., we don’t need to create a new list instead we just copy the existing elements to the original list in reverse order. This method directly modifies the original list."
   ]
  },
  {
   "cell_type": "markdown",
   "id": "b357e364",
   "metadata": {},
   "source": [
    "B2.How will you remove last object from a list?\n",
    "\n",
    "AnsB2 - pop() method in list by default removes the last element from the list if no arguments are given And another way of deleting last element is by remove() method by providing the value of last element in the argument. Pop() method takes index no as an argument and remove method takes value as an argument. and if no argument given in remove method it removes first element from the list. "
   ]
  },
  {
   "cell_type": "markdown",
   "id": "255e7ff1",
   "metadata": {},
   "source": [
    "B3.Suppose list1 is [2, 33, 222, 14, 25], What is list1[-1] ?\n",
    "\n",
    "AnsB3 - At list1[-1] it returns the last element from the list and from this list given in the question returns 25."
   ]
  },
  {
   "cell_type": "markdown",
   "id": "2d4366ba",
   "metadata": {},
   "source": [
    "B4.Differentiate between append() and extend() methods.?\n",
    "\n",
    "AnsB4 - \n",
    "\n",
    "append() - append() method will increase the length of the list by exactly one. This means that if the input to append is a list of elements, then the list itself will be appended and not the individual elements\n",
    "\n",
    "extend() - On the other hand, extend() method accepts an iterable whose elements will be appended to the list. For example, if the input to extend() is a list, it will concatenate the first list with the other list by iterating over the elements of the input list. This means that the resulting list’s length will be increased with the size of the iterable passed to extend() ."
   ]
  },
  {
   "cell_type": "code",
   "execution_count": 39,
   "id": "2e171a31",
   "metadata": {},
   "outputs": [
    {
     "name": "stdout",
     "output_type": "stream",
     "text": [
      "Largest value is--> 3453544\n",
      "Smallest value is--> 12\n",
      "Sum of all is--> 3486112\n"
     ]
    }
   ],
   "source": [
    "# B5. Write a Python function to get the largest number ,smallest num and sum of all from a list.\n",
    "\n",
    "#AnsB5 - \n",
    "\n",
    "l = [12,23,45,45,756,324,21,31342,3453544]\n",
    "a = 0\n",
    "b = l[0]\n",
    "c = 0\n",
    "for i in l:\n",
    "    if i>a:\n",
    "        a=i\n",
    "print(\"Largest value is-->\",a)\n",
    "for j in l:\n",
    "    c+=j\n",
    "    if j<b:\n",
    "        b=j\n",
    "print(\"Smallest value is-->\",b)\n",
    "print(\"Sum of all is-->\",c)\n",
    "#or k in l:\n",
    "   "
   ]
  },
  {
   "cell_type": "markdown",
   "id": "90c8ea98-c24a-427d-9018-751d3b2fd8de",
   "metadata": {},
   "source": [
    "B6.How will you compare two lists?\n",
    "\n",
    "AnsB6- \n",
    "1. The set() function and == operator\n",
    "-> Python set() function manipulate the list into the set without taking care of the order of elements. Besides, we use the equal to operator (==) to compare the data items of the list.\n",
    "\n",
    "2. The sort() method with == operator\n",
    "-> Python sort() function is used to sort the lists. The same list's elements are the same index position it means; lists are equal."
   ]
  },
  {
   "cell_type": "markdown",
   "id": "644db8ad-3562-4987-a4ae-7fc6905ab80e",
   "metadata": {},
   "source": [
    "### Assignment Level Intermediate"
   ]
  },
  {
   "cell_type": "code",
   "execution_count": 12,
   "id": "56da3bfe-5f5f-4080-a800-2c8545c2d7e7",
   "metadata": {},
   "outputs": [
    {
     "name": "stdout",
     "output_type": "stream",
     "text": [
      "evidence\n",
      "trust\n",
      "exercise\n"
     ]
    }
   ],
   "source": [
    "# I1. Write a Python program to count the number of strings where the \n",
    "# string length is 2 or more and the first and last character are same from a\n",
    "# given list of strings.\n",
    "\n",
    "# AnsI1 - \n",
    "\n",
    "ls = [\"Hello\",\"Hey\",\"evidence\",\"trust\",\"exercise\"]\n",
    "\n",
    "for i in ls:\n",
    "    if len(i)>=2 and i[0]==i[-1]:\n",
    "        print(i)"
   ]
  },
  {
   "cell_type": "code",
   "execution_count": 5,
   "id": "ce808536-ba65-4d79-874e-5d2c41319176",
   "metadata": {},
   "outputs": [
    {
     "name": "stdout",
     "output_type": "stream",
     "text": [
      "[12, 34, 45, 56, 78, 23, 13]\n"
     ]
    }
   ],
   "source": [
    "# l2.Write a Python program to remove duplicates from a list\n",
    "\n",
    "#I2Ans - \n",
    "\n",
    "n = [12,12,34,45,56,78,34,23,13,56]\n",
    "\n",
    "dupl = []\n",
    "\n",
    "for i in n:\n",
    "    if i not in dupl:\n",
    "        dupl.append(i)\n",
    "print(dupl)"
   ]
  },
  {
   "cell_type": "code",
   "execution_count": 14,
   "id": "456ac3d5",
   "metadata": {},
   "outputs": [
    {
     "name": "stdout",
     "output_type": "stream",
     "text": [
      "List is empty\n"
     ]
    }
   ],
   "source": [
    "# l3.Write a Python program to check a list is empty or not.\n",
    "\n",
    "#AnsI3 - \n",
    "\n",
    "l = []\n",
    "\n",
    "if len(l) == 0:\n",
    "    print(\"List is empty\")\n",
    "else:\n",
    "    print(l)"
   ]
  },
  {
   "cell_type": "code",
   "execution_count": 29,
   "id": "41bec93b",
   "metadata": {},
   "outputs": [
    {
     "name": "stdout",
     "output_type": "stream",
     "text": [
      "12 is common between two lists True\n",
      "13 is common between two lists True\n"
     ]
    }
   ],
   "source": [
    "# l4.Write a Python function that takes two lists and returns True if they have at least one common member\n",
    "\n",
    "l = [12,13,14,15,16,17]\n",
    "\n",
    "l1 = [12,34,56,13,22,33]\n",
    "\n",
    "for i in l:\n",
    "    for j in l1:\n",
    "        if i == j:\n",
    "            print(f\"{i} is common between two lists True\")\n",
    "       "
   ]
  },
  {
   "cell_type": "code",
   "execution_count": 36,
   "id": "5b0ba8fd",
   "metadata": {},
   "outputs": [
    {
     "name": "stdout",
     "output_type": "stream",
     "text": [
      "[12, 13, 14, 15, 16]\n",
      "[625, 676, 729, 784]\n"
     ]
    }
   ],
   "source": [
    "# I5.Write a Python program to generate and print a list of first and last 5 elements \n",
    "# where the values are square of numbers between 1 and 30\n",
    "\n",
    "#AnsI5 - \n",
    "\n",
    "import math as m\n",
    "\n",
    "for i in range(1,30):\n",
    "    l.append(i**2)\n",
    "print(l[:5])\n",
    "print(l[-5:-1])"
   ]
  },
  {
   "cell_type": "code",
   "execution_count": 44,
   "id": "62baa9a1",
   "metadata": {},
   "outputs": [
    {
     "name": "stdout",
     "output_type": "stream",
     "text": [
      "Enter list of numbers--->12,13,12,13,12,13,12,13,12,13\n",
      "Here are the unique elements of list--> ['13', '12']\n"
     ]
    }
   ],
   "source": [
    "# I6. Write a Python function that takes a list and returns a new list with unique elements of the first list.\n",
    "\n",
    "# AnsI6 -\n",
    "\n",
    "l = input(\"Enter list of numbers--->\")\n",
    "\n",
    "l = l.split(',')\n",
    "\n",
    "ul = []\n",
    "\n",
    "ul = list(set(l))\n",
    "\n",
    "print(\"Here are the unique elements of list-->\",ul)"
   ]
  },
  {
   "cell_type": "code",
   "execution_count": 5,
   "id": "184e194d",
   "metadata": {},
   "outputs": [
    {
     "name": "stdout",
     "output_type": "stream",
     "text": [
      "List--> ['H', 'e', 'l', 'l', 'o']\n",
      "Converted into string--> Hello\n"
     ]
    }
   ],
   "source": [
    "# l7. Write a Python program to convert a list of characters into a string\n",
    "\n",
    "# AnsI7 -\n",
    "\n",
    "list1 = ['H', 'e', 'l', 'l', 'o']\n",
    "\n",
    "st =\"\"\n",
    "\n",
    "st = st.join(list1)\n",
    "\n",
    "print(\"List-->\",list1)\n",
    "print(\"Converted into string-->\",st)"
   ]
  },
  {
   "cell_type": "markdown",
   "id": "fc380fcc",
   "metadata": {},
   "source": [
    "### Assignment Level Advance"
   ]
  },
  {
   "cell_type": "code",
   "execution_count": 14,
   "id": "5487cb7a",
   "metadata": {},
   "outputs": [
    {
     "name": "stdout",
     "output_type": "stream",
     "text": [
      "Blue\n"
     ]
    }
   ],
   "source": [
    "# A1.Write a Python program to select an item randomly from a list.\n",
    "\n",
    "# AnsA1 -\n",
    "import random\n",
    "\n",
    "colors = ['Red', 'Blue', 'Green', 'White', 'Black']\n",
    "\n",
    "print(random.choice(colors))"
   ]
  },
  {
   "cell_type": "code",
   "execution_count": 20,
   "id": "c5a7663e",
   "metadata": {},
   "outputs": [
    {
     "name": "stdout",
     "output_type": "stream",
     "text": [
      "Second smallest element is--> 2\n"
     ]
    }
   ],
   "source": [
    "# A2.Write a Python program to find the second smallest number in a list.\n",
    "\n",
    "# AnsA2 - \n",
    "\n",
    "lt = [12,13,14,2,3,1,5,4,2,4]\n",
    "\n",
    "lt.sort()\n",
    "\n",
    "print(\"Second smallest element is-->\",lt[1])"
   ]
  },
  {
   "cell_type": "markdown",
   "id": "1536a17a",
   "metadata": {},
   "source": [
    "A3. Write a Python program to get unique values from a list.\n",
    "\n",
    "AnsA3 - Same as Answer of que I6"
   ]
  },
  {
   "cell_type": "code",
   "execution_count": 6,
   "id": "91176928",
   "metadata": {},
   "outputs": [
    {
     "name": "stdout",
     "output_type": "stream",
     "text": [
      "Present\n",
      "\n"
     ]
    }
   ],
   "source": [
    "# A4.Write a Python program to check whether a list contains a sublist\n",
    "\n",
    "# AnsA4 - \n",
    "\n",
    "s = [4,5,6]\n",
    "\n",
    "l = [1,2,3,4,5,6,7,8,9,1,21,12,13,1,4]\n",
    "try:\n",
    "    for i in range(len(l)):\n",
    "        if l[i] == s[0]:\n",
    "            n = 1\n",
    "            while ((n < len(s)) and (l[i+n] == s[n])):\n",
    "                n += 1\n",
    "            if n == (len(s)):\n",
    "                print(\"Present\")\n",
    "                \n",
    "except Exception as error:\n",
    "    print()\n",
    "    "
   ]
  },
  {
   "cell_type": "code",
   "execution_count": 7,
   "id": "8efe7609",
   "metadata": {},
   "outputs": [
    {
     "name": "stdout",
     "output_type": "stream",
     "text": [
      "(1, 2, 3, 4, 5, 6, 7, 8, 9, 0)\n",
      "('red', 'blue', 'green', 'orange')\n",
      "('python', 'java', 'c', 'c++', 'PHP')\n"
     ]
    }
   ],
   "source": [
    "# A5.Write a Python program to split a list into different variables.\n",
    "\n",
    "#AnsA5 - \n",
    "\n",
    "ml = [(1,2,3,4,5,6,7,8,9,0),('red','blue','green','orange'),('python','java','c','c++','PHP')]\n",
    "\n",
    "num,colors,lang = ml\n",
    "\n",
    "print(num)\n",
    "print(colors)\n",
    "print(lang)"
   ]
  },
  {
   "cell_type": "markdown",
   "id": "e4a1416b",
   "metadata": {},
   "source": [
    "## Topic: Tuple\n",
    "### Introduction,Accessing tuple,Operations,Working,function and method\n",
    "### Assignment Level Basic\n"
   ]
  },
  {
   "cell_type": "markdown",
   "id": "ce7fd493",
   "metadata": {},
   "source": [
    "B1.What is tuple?Difference between list and tuple\n",
    "\n",
    "AnsB1 - \n",
    "\n",
    "List and Tuple in Python are the class of data structure. The list is dynamic, whereas the tuple has static characteristics. \n",
    "List is just like the arrays, declared in other languages. Lists need not be homogeneous always which makes it the most powerful tool in Python. In Python, the list is a type of container in Data Structures, which is used to store multiple data at the same time. Lists are a useful tool for preserving a sequence of data and further iterating over it. \n",
    "Syntax: \n",
    "\n",
    "list_data = ['an', 'example', 'of', 'a', 'list']\n",
    "\n",
    "Tuple is also a sequence data type that can contain elements of different data types, but these are immutable in nature. In other words, a tuple is a collection of Python objects separated by commas. The tuple is faster than the list because of static in nature. \n",
    "Syntax:  \n",
    "\n",
    "tuple_data = ('this', 'is', 'an', 'example', 'of', 'tuple')\n"
   ]
  },
  {
   "cell_type": "code",
   "execution_count": 8,
   "id": "6220cf36",
   "metadata": {},
   "outputs": [
    {
     "name": "stdout",
     "output_type": "stream",
     "text": [
      "Multiple datatype tuple--> ('darshil', 12, 22.25, (5+6j), 'ahmedabad')\n"
     ]
    }
   ],
   "source": [
    "# B2.Write a Python program to create a tuple with different data types\n",
    "\n",
    "#AnsB2 - \n",
    "\n",
    "tu = ('darshil',12,22.25,5+6j,'ahmedabad')\n",
    "\n",
    "print(\"Multiple datatype tuple-->\",tu)"
   ]
  },
  {
   "cell_type": "code",
   "execution_count": 9,
   "id": "05cbbdb6",
   "metadata": {},
   "outputs": [
    {
     "name": "stdout",
     "output_type": "stream",
     "text": [
      "(1, 2, 3, 4, 5, 6, 7, 8, 9, 1, 2, 3, 4, 5, 6, 7)\n"
     ]
    }
   ],
   "source": [
    "# B3. Write a Python program to create a tuple with numbers\n",
    "\n",
    "num = (1,2,3,4,5,6,7,8,9,1,2,3,4,5,6,7)\n",
    "\n",
    "print(num)"
   ]
  },
  {
   "cell_type": "code",
   "execution_count": 3,
   "id": "7adbfeac",
   "metadata": {},
   "outputs": [
    {
     "name": "stdout",
     "output_type": "stream",
     "text": [
      "darshil\n"
     ]
    }
   ],
   "source": [
    "# B4.Write a Python program to convert a tuple to a string\n",
    "\n",
    "tp = ('d','a','r','s','h','i','l')\n",
    "\n",
    "s =\"\"\n",
    "\n",
    "for i in tp:\n",
    "    s +=i\n",
    "\n",
    "print(s)"
   ]
  },
  {
   "cell_type": "code",
   "execution_count": 23,
   "id": "06d08c9f-74b6-43ae-bd69-9a91292ac7c9",
   "metadata": {},
   "outputs": [
    {
     "name": "stdin",
     "output_type": "stream",
     "text": [
      "Enter a value to search in the tuple 22222\n"
     ]
    },
    {
     "name": "stdout",
     "output_type": "stream",
     "text": [
      "element doesnot exists\n"
     ]
    }
   ],
   "source": [
    "# B5.Write a Python program to check whether an element exists within a tuple.\n",
    "num = (1,2,3,4,5,6,7,8,9,1,2,3,4,5,6,7)\n",
    "n = int(input(\"Enter a value to search in the tuple\"))\n",
    "\n",
    "if n in num:\n",
    "    print(\"Element exists\")\n",
    "    \n",
    "else:\n",
    "    print(\"element doesnot exists\")"
   ]
  },
  {
   "cell_type": "code",
   "execution_count": 25,
   "id": "0561eeb1-4e69-4069-b920-c0239a648200",
   "metadata": {},
   "outputs": [
    {
     "name": "stdout",
     "output_type": "stream",
     "text": [
      "Length of a tuple is------------> 16\n"
     ]
    }
   ],
   "source": [
    "# B7.Write a Python program to find the length of a tuple.\n",
    "\n",
    "num = (1,2,3,4,5,6,7,8,9,1,2,3,4,5,6,7)\n",
    "\n",
    "lentu = len(num)\n",
    "\n",
    "print(\"Length of a tuple is------------>\",lentu)"
   ]
  },
  {
   "cell_type": "code",
   "execution_count": 34,
   "id": "7b1972ae-7b33-4166-9088-35a91a67e890",
   "metadata": {},
   "outputs": [
    {
     "name": "stdout",
     "output_type": "stream",
     "text": [
      "('a', 1, 'b', 2, 'c', 3, 'd', 4)\n"
     ]
    }
   ],
   "source": [
    "# B6.Write a Python program to convert a list to a tuple\n",
    "\n",
    "lt = ['a',1,'b',2,'c',3,'d',4]\n",
    "\n",
    "t = tuple(lt)\n",
    "\n",
    "print(t)"
   ]
  },
  {
   "cell_type": "markdown",
   "id": "aff2a114-d90a-4870-a15c-9fcd07999881",
   "metadata": {},
   "source": [
    "### Assignment Level Intermediate"
   ]
  },
  {
   "cell_type": "code",
   "execution_count": 53,
   "id": "07266f25-4322-4724-af05-93cb348fda86",
   "metadata": {},
   "outputs": [
    {
     "name": "stdout",
     "output_type": "stream",
     "text": [
      "esrever"
     ]
    }
   ],
   "source": [
    "# I1. Write a Python program to reverse a tuple\n",
    "\n",
    "t = ('r','e','v','e','r','s','e')\n",
    "\n",
    "for i in range(len(t)):\n",
    "    print(t[-(i+1)],end='')"
   ]
  },
  {
   "cell_type": "code",
   "execution_count": 54,
   "id": "05ad833b-fc6a-4e3d-96c8-9925cd4d40b1",
   "metadata": {},
   "outputs": [
    {
     "name": "stdout",
     "output_type": "stream",
     "text": [
      "(1, 2, 3, 100)\n",
      "(5, 6, 7, 100)\n",
      "(9, 10, 11, 100)\n"
     ]
    }
   ],
   "source": [
    "# I2.Write a Python program to replace last value of tuples in a list\n",
    "\n",
    "lat = [(1,2,3,4),(5,6,7,8),(9,10,11,12)]\n",
    "\n",
    "for t in lat:\n",
    "    print(t[:-1] + (100,))"
   ]
  },
  {
   "cell_type": "code",
   "execution_count": 75,
   "id": "18dde9d5-5b16-490f-a0fe-07920717431d",
   "metadata": {},
   "outputs": [
    {
     "name": "stdout",
     "output_type": "stream",
     "text": [
      "Items are repeated\n"
     ]
    }
   ],
   "source": [
    "# i3.Write a Python program to find the repeated items of a tuple\n",
    "\n",
    "t = (1,2,3,4,12,13,14,1,2)\n",
    "a = 0\n",
    "for i in t:\n",
    "    if t.count(i) > 1:\n",
    "        print(\"Items are repeated\")\n",
    "        break\n",
    "    else:\n",
    "        print(\"Items are not repeated\")\n",
    "        break"
   ]
  },
  {
   "cell_type": "markdown",
   "id": "28dc9ae1-3c53-4afe-93dd-ec9244460824",
   "metadata": {},
   "source": [
    "### Assignment Level Advance"
   ]
  },
  {
   "cell_type": "code",
   "execution_count": 18,
   "id": "73aebf86-cd7d-4b39-8d7b-6076bfa5cd35",
   "metadata": {},
   "outputs": [
    {
     "name": "stdout",
     "output_type": "stream",
     "text": [
      "(1, 2)(2, 3, 4)(5, 6, 7, 8)"
     ]
    }
   ],
   "source": [
    "# A1.Write a Python program to remove an empty tuple(s) from a list of tuples.\n",
    "\n",
    "#AnsA1 - \n",
    "\n",
    "lot = [(),(1,2),(2,3,4),(),(5,6,7,8)]\n",
    "\n",
    "for i in lot:\n",
    "    if i:\n",
    "        print(i,end=\"\")"
   ]
  },
  {
   "cell_type": "code",
   "execution_count": 21,
   "id": "2fba1281-784c-4ac2-aae1-b87ca8154861",
   "metadata": {},
   "outputs": [
    {
     "name": "stdout",
     "output_type": "stream",
     "text": [
      "Original list--> [(1, 4), (2, 5), (3, 6)]\n",
      "List after unzip--> [[1, 2, 3], [4, 5, 6]]\n"
     ]
    }
   ],
   "source": [
    "# A2.Write a Python program to unzip a list of tuples into individual lists\n",
    "\n",
    "lt = [(1,4),(2,5),(3,6)]\n",
    "\n",
    "print(\"Original list-->\",lt)\n",
    "\n",
    "unziplt = [[i for i,j in lt],[j for i,j in lt]]\n",
    "\n",
    "print(\"List after unzip-->\",unziplt)"
   ]
  },
  {
   "cell_type": "code",
   "execution_count": 22,
   "id": "cee2fe1b-0cdb-4967-9928-dde9ecb063be",
   "metadata": {},
   "outputs": [
    {
     "name": "stdout",
     "output_type": "stream",
     "text": [
      "{'a': 1, 'b': 2, 'c': 3, 'd': 4}\n"
     ]
    }
   ],
   "source": [
    "# A3. Write a Python program to convert a list of tuples into a dictionary\n",
    "\n",
    "#AnsA3 -\n",
    "\n",
    "l = [('a',1),('b',2),('c',3),('d',4)]\n",
    "\n",
    "d = dict(l)\n",
    "\n",
    "print(d)"
   ]
  },
  {
   "cell_type": "markdown",
   "id": "f045101c-6d94-478e-b7ad-13113cb7ba1a",
   "metadata": {},
   "source": [
    "## Topic: Dictionaries Introduction,Accessing value in Dictionaries,working with Dictionaries,properties\n"
   ]
  },
  {
   "cell_type": "markdown",
   "id": "b8a94a15-3f3d-4d5a-b0f1-3a7801d7fcba",
   "metadata": {},
   "source": [
    "### Assignment Level Basic"
   ]
  },
  {
   "cell_type": "markdown",
   "id": "fd691a9c-e789-47a3-98cf-9653596c0ff3",
   "metadata": {},
   "source": [
    "B1.What is Dictionaries?\n",
    "\n",
    "AnsB1 - A dictionary is a collection which is unordered, changeable and indexed. In Python dictionaries are written with curly brackets, and they have keys and values."
   ]
  },
  {
   "cell_type": "markdown",
   "id": "3a658626-203d-4c45-ab70-a8713333b3e5",
   "metadata": {},
   "source": [
    "B2.How will you create a dictionary in python?How will you get all the keys from the dictionary?\n",
    "How will you get all the values from the dictionary?\n",
    "\n",
    "AnsB2 - To define a Python dictionary you should define it between curly brackets ex: {}. To Assign the value to it's key you should add columns.\n",
    "\n",
    "data = {\"key\": \"value\"} \n",
    "\n",
    "\n",
    "-> To get all the keys from the dictionary the dictionary_name.keys() is used.\n",
    "\n",
    "-> And to access all the values from the dictionary you have to write dictionary_name.values().\n"
   ]
  },
  {
   "cell_type": "code",
   "execution_count": 5,
   "id": "349c0a89-285f-40a1-9101-18fbceefeb50",
   "metadata": {},
   "outputs": [
    {
     "name": "stdout",
     "output_type": "stream",
     "text": [
      "{'name': 'darshil', 'city': 'ahmedabad'}\n"
     ]
    }
   ],
   "source": [
    "# B3.How will you create a dictionary using tuples in python?\n",
    "\n",
    "t1 = ('name','city')\n",
    "t2 = ('darshil','ahmedabad')\n",
    "\n",
    "if len(t1) == len(t2):\n",
    "    d = dict(zip(t1,t2))\n",
    "    print(d)"
   ]
  },
  {
   "cell_type": "code",
   "execution_count": 24,
   "id": "d761d64b-75d7-4ffb-94ab-75e96d1c86ee",
   "metadata": {},
   "outputs": [
    {
     "name": "stdout",
     "output_type": "stream",
     "text": [
      "Sorted in ascending order--> [(1, 'a'), (2, 'b'), (3, 'c'), (4, 'd'), (5, 'e')]\n",
      "Sorted in descending order--> [(5, 'e'), (4, 'd'), (3, 'c'), (2, 'b'), (1, 'a')]\n"
     ]
    }
   ],
   "source": [
    "# B4.Write a Python script to sort (ascending and descending) a dictionary by value\n",
    "\n",
    "d = {5:'e',3:'c',4:'d',2:'b',1:'a'}\n",
    "\n",
    "print(\"Sorted in ascending order-->\",sorted(d.items()))\n",
    "\n",
    "print(\"Sorted in descending order-->\",sorted(d.items(), reverse=True))"
   ]
  },
  {
   "cell_type": "code",
   "execution_count": 29,
   "id": "760baeff-f8bf-4ca2-a789-386c254ed258",
   "metadata": {},
   "outputs": [
    {
     "name": "stdout",
     "output_type": "stream",
     "text": [
      "After concatenating three dictionaries--> {1: 'a', 2: 'b', 3: 'c', 4: 'd', 5: 'e', 6: 'f'}\n"
     ]
    }
   ],
   "source": [
    "# B5. Write a Python script to concatenate following dictionaries to create a new one\n",
    "\n",
    "d1 = {1:'a',2:'b'}\n",
    "d2 = {3:'c',4:'d'}\n",
    "d3 = {5:'e',6:'f'}\n",
    "d4 = dict()\n",
    "for i in (d1,d2,d3):\n",
    "    d4.update(i)\n",
    "print(\"After concatenating three dictionaries-->\",d4)"
   ]
  },
  {
   "cell_type": "code",
   "execution_count": 21,
   "id": "31bc5638-bb83-4a4b-9c41-4d8330dd152c",
   "metadata": {},
   "outputs": [
    {
     "name": "stdin",
     "output_type": "stream",
     "text": [
      "Enter key 10\n"
     ]
    },
    {
     "name": "stdout",
     "output_type": "stream",
     "text": [
      "Not present\n"
     ]
    }
   ],
   "source": [
    "# B6.Write a Python script to check if a given key already exists in a dictionary\n",
    "\n",
    "d = {1:10,2:20,3:30,4:40,5:50,6:60,7:70}\n",
    "\n",
    "x = int(input(\"Enter key\"))\n",
    "if x in d:\n",
    "    print(\"Present\")\n",
    "else:\n",
    "    print(\"Not present\")\n"
   ]
  },
  {
   "cell_type": "code",
   "execution_count": 13,
   "id": "1f0e5e7c-e28a-4075-b301-3c84a8674167",
   "metadata": {},
   "outputs": [
    {
     "name": "stdout",
     "output_type": "stream",
     "text": [
      "(1, 10)(2, 20)(3, 30)(4, 40)(5, 50)(6, 60)(7, 70)(8, 80)(9, 90)"
     ]
    }
   ],
   "source": [
    "# B7.How Do You Traverse Through A Dictionary Object In Python?\n",
    "\n",
    "d = {1:10,2:20,3:30,4:40,5:50,6:60,7:70,8:80,9:90}\n",
    "\n",
    "for i in d.items():\n",
    "    print(i,end=\"\")"
   ]
  },
  {
   "cell_type": "code",
   "execution_count": 2,
   "id": "f4c7b08c-7ac0-43e8-9544-051f42866d23",
   "metadata": {},
   "outputs": [
    {
     "name": "stdout",
     "output_type": "stream",
     "text": [
      "key2 is present\n"
     ]
    }
   ],
   "source": [
    "# B8.How Do You Check The Presence Of A Key In A Dictionary?\n",
    "\n",
    "#AnsB8 - To check key is present or not 'in' keyword is used for example below\n",
    "\n",
    "ch = {'key':'value','key2':'value2','key3':'value3','key4':'value4'}\n",
    "\n",
    "if 'key2' in ch:\n",
    "    print(f\"{'key2'} is present\")\n",
    "else:\n",
    "    print(\"Doesnot exist\")\n"
   ]
  },
  {
   "cell_type": "markdown",
   "id": "c67b715e-c161-441e-9afb-48127f81159d",
   "metadata": {},
   "source": [
    "### Assignment Level Intermediate\n"
   ]
  },
  {
   "cell_type": "code",
   "execution_count": 7,
   "id": "9459935e-f989-49db-9781-a6c2bd56d18d",
   "metadata": {},
   "outputs": [
    {
     "name": "stdout",
     "output_type": "stream",
     "text": [
      "{1: 1, 2: 4, 3: 9, 4: 16, 5: 25, 6: 36, 7: 49, 8: 64, 9: 81, 10: 100, 11: 121, 12: 144, 13: 169, 14: 196, 15: 225}\n"
     ]
    }
   ],
   "source": [
    "# I1 Write a Python script to print a dictionary where the keys are numbers between 1 and 15 (both\n",
    "# Sample Dictionary\n",
    "# {1: 1, 2: 4, 3: 9, 4: 16, 5: 25, 6: 36, 7: 49, 8: 64, 9: 81, 10: 100, 11: 121, 12: 144, 13: 169,\n",
    "# 14: 196, 15: 225}\n",
    "\n",
    "d = {}\n",
    "for i in range(1,16):\n",
    "    d[i] = i**2\n",
    "print(d)"
   ]
  },
  {
   "cell_type": "code",
   "execution_count": 31,
   "id": "5c7110f3-9d99-4165-a88b-dbc31469143b",
   "metadata": {},
   "outputs": [
    {
     "name": "stdout",
     "output_type": "stream",
     "text": [
      "AL keys are present\n"
     ]
    }
   ],
   "source": [
    "# I2. Write a Python program to check multiple keys exists in a dictionary\n",
    "\n",
    "days = {1:'mon',2:'tue',3:'wed',4:'thur',5:'fri',6:'sat',7:'sun'}\n",
    "\n",
    "check = {1,2}\n",
    "\n",
    "if days.keys() >= check:\n",
    "    print(\"AL keys are present\")\n",
    "else:\n",
    "    print(\"All keys are not present\")"
   ]
  },
  {
   "cell_type": "code",
   "execution_count": 54,
   "id": "e51e9dc8-4cad-4e4f-a4ca-dd9f5dc48029",
   "metadata": {},
   "outputs": [
    {
     "name": "stdout",
     "output_type": "stream",
     "text": [
      "{'a': 10, 'b': 20, 'c': 30, 'd': 4, 'e': 5, 'f': 6}\n"
     ]
    }
   ],
   "source": [
    "# I3.Write a Python script to merge two Python dictionaries\n",
    "\n",
    "d = {'a':10,'b':20,'c':30}\n",
    "d1 = {'d':4,'e':5,'f':6}\n",
    "\n",
    "d.update(d1)\n",
    "\n",
    "print(d)"
   ]
  },
  {
   "cell_type": "code",
   "execution_count": 68,
   "id": "a9dab610-2700-4491-bc02-2a237afa62fc",
   "metadata": {},
   "outputs": [
    {
     "name": "stdout",
     "output_type": "stream",
     "text": [
      "{1: 10, 2: 20, 3: 30, 4: 40}\n"
     ]
    }
   ],
   "source": [
    "# I4. Write a Python program to map two lists into a dictionary\n",
    "\n",
    "l1 = [1,2,3,4,5]\n",
    "l2 = [10,20,30,40]\n",
    "\n",
    "d = dict(zip(l1,l2))\n",
    "\n",
    "print(d)"
   ]
  },
  {
   "cell_type": "code",
   "execution_count": 101,
   "id": "c0b13cb7-dbad-4617-9a2d-9a5a9471bfe7",
   "metadata": {},
   "outputs": [
    {
     "name": "stdout",
     "output_type": "stream",
     "text": [
      "{'a': 400, 'b': 400, 'c': 300, 'd': 400}\n"
     ]
    }
   ],
   "source": [
    "# I5. Write a Python program to combine two dictionary adding values for common keys.\n",
    "# d1 = {'a': 100, 'b': 200, 'c':300}\n",
    "# d2 = {'a': 300, 'b': 200, 'd':400}\n",
    "# Sample output: Counter({'a': 400, 'b': 400, 'd': 400, 'c': 300})\n",
    "\n",
    "d1 = {'a': 100, 'b': 200, 'c':300}\n",
    "d2 = {'a': 300, 'b': 200, 'd':400}\n",
    "\n",
    "d3 = dict(d1)\n",
    "\n",
    "d3.update(d2) \n",
    "\n",
    "for i, j in d1.items():\n",
    "    for x, y in d2.items():\n",
    "        if i == x:\n",
    "            d3[i]=(j+y)\n",
    "\n",
    "\n",
    "print(d3)"
   ]
  },
  {
   "cell_type": "code",
   "execution_count": 111,
   "id": "8d5eac35-0b75-40ab-8b6f-7d13ce67d35c",
   "metadata": {},
   "outputs": [
    {
     "name": "stdout",
     "output_type": "stream",
     "text": [
      "Unique values from dictionary ['a', 'b', 'c']\n"
     ]
    }
   ],
   "source": [
    "# I6 .Write a Python program to print all unique values in a dictionary.\n",
    "\n",
    "d = {1:'a',2:'b',3:'a',4:'c',5:'b'}\n",
    "t = []\n",
    "for i,j in d.items():\n",
    "    for x in j:\n",
    "        if x not in t:\n",
    "            t.append(x)\n",
    "print(\"Unique values from dictionary\",t)"
   ]
  },
  {
   "cell_type": "markdown",
   "id": "5fcdc387-7ceb-4180-9109-58b9d648147b",
   "metadata": {},
   "source": [
    "I7.Why Do You Use The Zip() Method In Python?\n",
    "\n",
    "AnsI7  - The zip() function returns a zip object, which is an iterator of tuples where the first item in each passed iterator is paired together, and then the second item in each passed iterator are paired together etc.\n",
    "\n",
    "If the passed iterators have different lengths, the iterator with the least items decides the length of the new iterator."
   ]
  },
  {
   "cell_type": "markdown",
   "id": "a0171b1a-5ba4-4f49-a81e-9f6f4b31522f",
   "metadata": {},
   "source": [
    "### Assignment Level Advance"
   ]
  },
  {
   "cell_type": "code",
   "execution_count": 139,
   "id": "7d0958d5-ddbb-4d4c-99ef-e605e6dc0766",
   "metadata": {},
   "outputs": [
    {
     "name": "stdout",
     "output_type": "stream",
     "text": [
      "ac\n",
      "ad\n",
      "bc\n",
      "bd\n"
     ]
    }
   ],
   "source": [
    "# A1. Write a Python program to create and display all combinations of letters, \n",
    "# selecting each letter from a different key in a dictionary.\n",
    "# Sample data : {'1':['a','b'], '2':['c','d']} \n",
    "# Expected Output:\n",
    "# ac\n",
    "# ad\n",
    "# bc\n",
    "# bd\n",
    "\n",
    "s = {'1':['a','b'], '2':['c','d']}\n",
    "\n",
    "for x in s['1']:\n",
    "    for y in s['2']:\n",
    "        print(x+y)"
   ]
  },
  {
   "cell_type": "code",
   "execution_count": 160,
   "id": "06ae0cec-93c3-4137-8514-7ab68a55eddb",
   "metadata": {},
   "outputs": [
    {
     "data": {
      "text/plain": [
       "500"
      ]
     },
     "execution_count": 160,
     "metadata": {},
     "output_type": "execute_result"
    }
   ],
   "source": [
    "# A2.Write a Python program to find the highest 3 values in a dictionary.\n",
    "\n",
    "hv = {'a':10,'b':200,'c':300,'d':40,'e':500,'f':60}\n",
    "\n",
    "a = list(hv.values())\n",
    "\n",
    "m = max(a)\n",
    "m"
   ]
  },
  {
   "cell_type": "code",
   "execution_count": 3,
   "id": "7ec957b7-a024-423e-9b90-465545356ced",
   "metadata": {},
   "outputs": [
    {
     "name": "stdout",
     "output_type": "stream",
     "text": [
      "[{'item': 'item1', 'amount': 400}, {'item': 'item2', 'amount': 300}, {'item': 'item1', 'amount': 750}]\n"
     ]
    }
   ],
   "source": [
    "# A3.Write a Python program to combine values in python list of dictionaries. \n",
    "#Sample data: [{'item': 'item1', 'amount': 400}, {'item': 'item2', 'amount': 300},\n",
    "#{'item': 'item1', 'amount': 750}]\n",
    "#Expected Output: Counter({'item1': 1150, 'item2': 300})\n",
    "\n",
    "#[{'item': 'item1', 'amount': 400}, {'item': 'item2', 'amount': 300},\n",
    "#{'item': 'item1', 'amount': 750}]\n",
    "\n"
   ]
  },
  {
   "cell_type": "code",
   "execution_count": 8,
   "id": "81b733cf-849a-4ed3-86dd-6072835ac358",
   "metadata": {},
   "outputs": [
    {
     "name": "stdout",
     "output_type": "stream",
     "text": [
      "{'w': 1, '3': 1, 'r': 2, 'e': 2, 's': 1, 'o': 1, 'u': 1, 'c': 1}\n"
     ]
    }
   ],
   "source": [
    "#A4. Write a Python program to create a dictionary from a string. \n",
    "#Note: Track the count of the letters from the string.\n",
    "#Sample string : 'w3resource'\n",
    "#Expected output: {'3': 1, 's': 1, 'r': 2, 'u': 1, 'w': 1, 'c': 1, 'e': 2, 'o': 1}\n",
    "\n",
    "st = \"w3resource\"\n",
    "d = {}\n",
    "ind = range(len(st))\n",
    "\n",
    "for v in st:\n",
    "    c = st.count(v,0,len(st))\n",
    "    d.update({v:c})\n",
    "print(d)"
   ]
  },
  {
   "cell_type": "markdown",
   "id": "840bf91b-21be-43e7-a4ee-2078f2f759a5",
   "metadata": {},
   "source": [
    "## Topic : Function and method Assignment"
   ]
  },
  {
   "cell_type": "markdown",
   "id": "4d4ecb06-fb38-4fa8-91ca-2106bd4736cd",
   "metadata": {},
   "source": [
    "### Assignment Level Basic"
   ]
  },
  {
   "cell_type": "code",
   "execution_count": 14,
   "id": "7441a613-2365-4468-ac6f-3b555de34f9d",
   "metadata": {},
   "outputs": [
    {
     "name": "stdin",
     "output_type": "stream",
     "text": [
      "Enter number 5\n"
     ]
    },
    {
     "data": {
      "text/plain": [
       "120"
      ]
     },
     "execution_count": 14,
     "metadata": {},
     "output_type": "execute_result"
    }
   ],
   "source": [
    "# B1.Write a Python function to calculate the factorial of a number (a non-negative integer)\n",
    "\n",
    "def fact(num):\n",
    "    if num==0:\n",
    "        return 1\n",
    "    else:\n",
    "        return num * fact(num-1)\n",
    "    \n",
    "num = int(input(\"Enter number\"))\n",
    "fact(num)"
   ]
  },
  {
   "cell_type": "code",
   "execution_count": 17,
   "id": "b6c27336-4780-453f-a612-c7f0883123ce",
   "metadata": {},
   "outputs": [
    {
     "name": "stdin",
     "output_type": "stream",
     "text": [
      "Enter num to find 12\n",
      "Enter Range 100\n"
     ]
    },
    {
     "name": "stdout",
     "output_type": "stream",
     "text": [
      "number if present\n"
     ]
    }
   ],
   "source": [
    "# B2. Write a Python function to check whether a number is in a given range\n",
    "def search(num,r):\n",
    "    if num in range(r):\n",
    "        print(\"number if present\")\n",
    "    else:\n",
    "        print(\"Number is not present\")\n",
    "num = int(input(\"Enter num to find\"))\n",
    "r = int(input(\"Enter Range\"))\n",
    "search(num,r)"
   ]
  },
  {
   "cell_type": "code",
   "execution_count": 35,
   "id": "0d85ec29-768e-457a-8356-9704696b7c7f",
   "metadata": {},
   "outputs": [
    {
     "data": {
      "text/plain": [
       "True"
      ]
     },
     "execution_count": 35,
     "metadata": {},
     "output_type": "execute_result"
    }
   ],
   "source": [
    "# B3.Write a Python function to check whether a number is perfect or not.\n",
    "\n",
    "def perfect_number(n):\n",
    "    sum = 0\n",
    "    for x in range(1, n):\n",
    "        if n % x == 0:\n",
    "            sum += x\n",
    "    return sum == n\n",
    "perfect_number(8128)"
   ]
  },
  {
   "cell_type": "code",
   "execution_count": 43,
   "id": "d846aabc-b54b-46df-8ce7-1259558bee0d",
   "metadata": {},
   "outputs": [
    {
     "name": "stdin",
     "output_type": "stream",
     "text": [
      "Enter a string abba\n"
     ]
    },
    {
     "name": "stdout",
     "output_type": "stream",
     "text": [
      "string is palindrome\n"
     ]
    }
   ],
   "source": [
    "# B4.Write a Python function that checks whether a passed string is palindrome or not\n",
    "\n",
    "st = input(\"Enter a string\")\n",
    "\n",
    "if st[0:] == st[::-1]:\n",
    "    print(\"string is palindrome\")\n",
    "else:\n",
    "    print(\"String is not palindrome\")"
   ]
  },
  {
   "cell_type": "code",
   "execution_count": 55,
   "id": "484c09ed-7dc6-4fd0-9560-e7513fb2ee23",
   "metadata": {},
   "outputs": [
    {
     "name": "stdin",
     "output_type": "stream",
     "text": [
      "Enter substring abc\n"
     ]
    },
    {
     "name": "stdout",
     "output_type": "stream",
     "text": [
      "abc found in abcdefghijklmnopqrstuvwxyz\n"
     ]
    }
   ],
   "source": [
    "# B5.How do you perform pattern matching in Python? Explain\n",
    "\n",
    "m = \"abcdefghijklmnopqrstuvwxyz\"\n",
    "\n",
    "sub = input(\"Enter substring\")\n",
    "\n",
    "for i in m:\n",
    "    if sub in m:\n",
    "        print(f\"{sub} found in {m}\")\n",
    "        break\n",
    "    else:\n",
    "        print(\"Not found\")\n",
    "        break"
   ]
  },
  {
   "cell_type": "markdown",
   "id": "1355e8a6-18ec-4038-9774-2ce8a20fb05f",
   "metadata": {},
   "source": [
    "B6.What is lambda function in python?What we call a function which is\n",
    "incomplete version of a function?\n",
    "\n",
    "Python Lambda Functions are anonymous function means that the function is without a name. As we already know that the def keyword is used to define a normal function in Python. Similarly, the lambda keyword is used to define an anonymous function in Python. \n",
    "\n",
    "Python Lambda Function Syntax:\n",
    "\n",
    "lambda arguments: expression\n",
    "\n",
    "- This function can have any number of arguments but only one expression, which is evaluated and returned.\n",
    "\n",
    "- One is free to use lambda functions wherever function objects are required.\n",
    "\n",
    "- You need to keep in your knowledge that lambda functions are syntactically restricted to a single expression.\n",
    "\n",
    "- It has various uses in particular fields of programming besides other types of expressions in functions."
   ]
  },
  {
   "cell_type": "markdown",
   "id": "35fef81a-b33d-4262-8c31-8a7f4466886a",
   "metadata": {},
   "source": [
    "B7.How Many Basic Types Of Functions Are Available In Python?\n",
    "\n",
    "AnsB7 - Python Language gives us two basic types of functions.\n",
    "\n",
    "1. Built-in, and\n",
    "\n",
    "2. User-defined.\n",
    "\n",
    "The built-in functions happen to be part of the Python Language language. Some of these are print(), dir(), len(), and abs() etc."
   ]
  },
  {
   "cell_type": "markdown",
   "id": "e9b0a6b5-2159-46b2-8f81-af0fe935c2c3",
   "metadata": {},
   "source": [
    "### Assignment Level Intermediate"
   ]
  },
  {
   "cell_type": "code",
   "execution_count": 56,
   "id": "1e9b5362-c31d-4d58-a28e-e344594836a1",
   "metadata": {},
   "outputs": [],
   "source": [
    "# I1.Write a Python program to access a function inside a function."
   ]
  },
  {
   "cell_type": "code",
   "execution_count": 10,
   "id": "c15ba178-5aac-4e70-b495-f546eade2194",
   "metadata": {},
   "outputs": [
    {
     "name": "stdout",
     "output_type": "stream",
     "text": [
      "3\n"
     ]
    }
   ],
   "source": [
    "# l2.Write a Python program to detect the number of local variables declared in a function.\n",
    "\n",
    "def abc():\n",
    "    x = 1\n",
    "    y = 2\n",
    "    str1= \"w3resource\"\n",
    "    print(\"Python Exercises\")\n",
    "\n",
    "print(abc.__code__.co_nlocals)"
   ]
  },
  {
   "cell_type": "markdown",
   "id": "9d5daf6c-44ae-438b-8210-7e54aa2060e4",
   "metadata": {},
   "source": [
    "l3. What is map function in Python?\n",
    "\n",
    "AnsI3 - The python map() function is used to return a list of results after applying a given function to each item of an iterable(list, tuple etc.)\n",
    "\n",
    "- Syntax-:\n",
    "\n",
    "> map(function, iterables)  \n",
    "\n",
    "- Parameters\n",
    "\n",
    "> function- It is a function in which a map passes each item of the iterable.\n",
    "\n",
    "> iterables- It is a sequence, collection or an iterator object which is to be mapped."
   ]
  },
  {
   "cell_type": "code",
   "execution_count": 44,
   "id": "8789f11d-34fa-47bc-9485-306546ad034b",
   "metadata": {},
   "outputs": [
    {
     "name": "stdout",
     "output_type": "stream",
     "text": [
      "8,6,4,2,"
     ]
    }
   ],
   "source": [
    "def calculateAddition(n):\n",
    "    return n+n  \n",
    "  \n",
    "numbers = (4,3,2,1)  \n",
    "result = map(calculateAddition, numbers)  \n",
    "\n",
    "for i in result:\n",
    "    print(str(i)+',',end=\"\")"
   ]
  },
  {
   "cell_type": "markdown",
   "id": "7ed3d504-1248-407d-a877-431f4bb5ef90",
   "metadata": {},
   "source": [
    "I4.Does Python Have A Main() Method?\n",
    "\n",
    "AnsI4 - Main function is like the entry point of a program. However, Python interpreter runs the code right from the first line. The execution of the code starts from the starting line and goes line by line. It does not matter where the main function is present or it is present or not.\n",
    "\n",
    "- Since there is no main() function in Python, when the command to run a Python program is given to the interpreter, the code that is at level 0 indentation is to be executed. However, before doing that, it will define a few special variables. __name__ is one such special variable. If the source file is executed as the main program, the interpreter sets the __name__ variable to have a value __main__. If this file is being imported from another module, __name__ will be set to the module’s name.\n",
    "    __name__ is a built-in variable which evaluates to the name of the current module.\n",
    "\n"
   ]
  },
  {
   "cell_type": "markdown",
   "id": "cf492d66-51b1-4425-9f33-522a3b82744f",
   "metadata": {},
   "source": [
    "I5.What Does The *Args Do In Python?What Does The **Kwargs Do In Python?\n",
    "\n",
    "##### 1.) *args\n",
    "\n",
    "- The special syntax *args in function definitions in python is used to pass a variable number of arguments to a function. It is used to pass a non-key worded, variable-length argument list. \n",
    "\n",
    "- The syntax is to use the symbol * to take in a variable number of arguments; by convention, it is often used with the word args.\n",
    "\n",
    "- What *args allows you to do is take in more arguments than the number of formal arguments that you previously defined. With *args, any number of extra arguments can be tacked on to your current formal parameters (including zero extra arguments).\n",
    "\n",
    "- For example : we want to make a multiply function that takes any number of arguments and able to multiply them all together. It can be done using *args.\n",
    "\n",
    "- Using the *, the variable that we associate with the * becomes an iterable meaning you can do things like iterate over it, run some higher-order functions such as map and filter, etc.\n",
    " \n",
    "##### 2.)**kwargs\n",
    "\n",
    "- The special syntax **kwargs in function definitions in python is used to pass a keyworded, variable-length argument list. We use the name kwargs with the double star. The reason is because the double star allows us to pass through keyword arguments (and any number of them).\n",
    "\n",
    "- A keyword argument is where you provide a name to the variable as you pass it into the function.\n",
    "\n",
    "- One can think of the kwargs as being a dictionary that maps each keyword to the value that we pass alongside it. That is why when we iterate over the kwargs there doesn’t seem to be any order in which they were printed out. "
   ]
  },
  {
   "cell_type": "markdown",
   "id": "92077ba4-514c-4a32-8476-e85ee54af122",
   "metadata": {},
   "source": [
    "I6.What Does The Name Do In Python?What Is The Purpose Of “End” In Python?    \n",
    "\n",
    "- Since there is no main() function in Python, when the command to run a python program is given to the interpreter, the code that is at level 0 indentation is to be executed. However, before doing that, it will define a few special variables. __name__ is one such special variable. If the source file is executed as the main program, the interpreter sets the __name__ variable to have a value “__main__”. If this file is being imported from another module, __name__ will be set to the module’s name.\n",
    "__name__ is a built-in variable which evaluates to the name of the current module."
   ]
  },
  {
   "cell_type": "markdown",
   "id": "d6d0160b-76a8-4ea6-a98a-504797644dfd",
   "metadata": {},
   "source": [
    "I7.What Does The Len() Function Do In Python? What Does The Ord() Function\n",
    "Do In Python?\n",
    "\n",
    "AnsI7 - \n",
    "- The len() function returns the number of items in an object.\n",
    "\n",
    "When the object is a string, the len() function returns the number of characters in the string.\n",
    "\n",
    "- Python ord() function returns the Unicode code from a given character. This function accepts a string of unit length as an argument and returns the Unicode equivalence of the passed argument. In other words, given a string of length 1, the ord() function returns an integer representing the Unicode code point of the character when an argument is a Unicode object, or the value of the byte when the argument is an 8-bit string."
   ]
  },
  {
   "cell_type": "markdown",
   "id": "8c9c0697-065b-42bf-ab86-0365cdfe8e8c",
   "metadata": {},
   "source": [
    "### Assignment Level Advance"
   ]
  },
  {
   "cell_type": "markdown",
   "id": "cfd0bf38-3fcc-42a6-a4d6-7331d9f16028",
   "metadata": {},
   "source": [
    "A1.Name few methods that are used to implement Functionally Oriented\n",
    "Programming in Python?\n",
    "\n",
    "AnsA1 - "
   ]
  },
  {
   "cell_type": "code",
   "execution_count": 49,
   "id": "7ff519e4-911f-492b-b5db-b58c9ac06c0b",
   "metadata": {},
   "outputs": [
    {
     "name": "stdin",
     "output_type": "stream",
     "text": [
      "Enter string you want to reverse nita\n"
     ]
    },
    {
     "name": "stdout",
     "output_type": "stream",
     "text": [
      "Original String is-> nita\n",
      "Reversed nita using slicing-> atin\n"
     ]
    }
   ],
   "source": [
    "# A2.Write a program in Python to reverse a string without using inbuilt function reverse string?\n",
    "\n",
    "original = input(\"Enter string you want to reverse\")\n",
    "\n",
    "print(\"Original String is->\",original)\n",
    "\n",
    "print(f\"Reversed {original} using slicing->\",original[::-1])"
   ]
  },
  {
   "cell_type": "markdown",
   "id": "b13bf76b-babc-4b04-9b12-dba015988c79",
   "metadata": {},
   "source": [
    "## Topic: importing module,math module,random module,packages"
   ]
  },
  {
   "cell_type": "markdown",
   "id": "30203d2a-f0b8-47c8-aea4-abe71780e2ae",
   "metadata": {},
   "source": [
    "### Assignment level basic"
   ]
  },
  {
   "cell_type": "code",
   "execution_count": 56,
   "id": "ad63723d-0731-46f6-8efd-50956f45d321",
   "metadata": {},
   "outputs": [
    {
     "name": "stdout",
     "output_type": "stream",
     "text": [
      "Random values from 1 to 50-> [3, 1, 19, 39, 10]\n"
     ]
    }
   ],
   "source": [
    "# B1.How can you pick a random item from a list or tuple?\n",
    "\n",
    "import random\n",
    "\n",
    "lt = range(1,50)\n",
    "\n",
    "ranlist = random.sample(lt,5)\n",
    "\n",
    "print(\"Random values from 1 to 50->\",ranlist)"
   ]
  },
  {
   "cell_type": "code",
   "execution_count": 12,
   "id": "60eea5ba-4213-451c-b91a-93e32eb95376",
   "metadata": {},
   "outputs": [
    {
     "name": "stdout",
     "output_type": "stream",
     "text": [
      "Random item from a range of 0to100-> 88\n"
     ]
    }
   ],
   "source": [
    "#B2.How can you pick a random item from a range?\n",
    "\n",
    "import random\n",
    "\n",
    "print(\"Random item from a range of 0to100->\",random.randrange(0,100))"
   ]
  },
  {
   "cell_type": "code",
   "execution_count": 17,
   "id": "329c3626-5c9f-49f3-9627-025be54cb69b",
   "metadata": {},
   "outputs": [
    {
     "name": "stdout",
     "output_type": "stream",
     "text": [
      "Generating random numbers using randint-> 162\n"
     ]
    }
   ],
   "source": [
    "# B3.How can you get a random number in python?\n",
    "\n",
    "import random\n",
    "\n",
    "ranin = random.randint(1,200)\n",
    "\n",
    "print(\"Generating random numbers using randint->\",ranin)"
   ]
  },
  {
   "cell_type": "markdown",
   "id": "14c4c234-cfb2-409a-a439-dd0b6bdbf877",
   "metadata": {},
   "source": [
    "B4.How will you set the starting value in generating random numbers?\n",
    "\n",
    "- Python number method seed() sets the integer starting value used in generating random numbers. Call this function before calling any other random module function.\n",
    "\n",
    "- Syntax\n",
    "Following is the syntax for seed() method −\n",
    "\n",
    "- seed ( [x] )\n",
    "\n",
    "- Note − This function is not accessible directly, so we need to import the random module and then we need to call this function using random static object.\n",
    "\n",
    "- Parameters\n",
    "    x − This is the seed for the next random number. If omitted, then it takes system time to generate next random number.\n",
    "\n",
    "- Return Value\n",
    "    This method does not return any value."
   ]
  },
  {
   "cell_type": "code",
   "execution_count": 1,
   "id": "581fdd1d-f467-4fd3-99e2-fa0fea70b067",
   "metadata": {},
   "outputs": [
    {
     "name": "stdout",
     "output_type": "stream",
     "text": [
      "Before randomizing the list [12, 13, 13, 14, 24, 34, 2]\n",
      "After randomizing the list [12, 14, 13, 2, 24, 34, 13]\n"
     ]
    }
   ],
   "source": [
    "# B5.How will you randomizes the items of a list in place?\n",
    "\n",
    "import random\n",
    "\n",
    "li = [12,13,13,14,24,34,2]\n",
    "\n",
    "print(\"Before randomizing the list\",li)\n",
    "\n",
    "random.shuffle(li)\n",
    "\n",
    "print(\"After randomizing the list\",li)"
   ]
  },
  {
   "cell_type": "markdown",
   "id": "95af26e3-42fe-466a-8fad-1d156b9dbc15",
   "metadata": {},
   "source": [
    "### Assignment Level Intermediate"
   ]
  },
  {
   "cell_type": "code",
   "execution_count": 67,
   "id": "43c8ec7d-6327-457a-a529-698c8d1e96e9",
   "metadata": {},
   "outputs": [
    {
     "name": "stdout",
     "output_type": "stream",
     "text": [
      "raj\n",
      "\n"
     ]
    }
   ],
   "source": [
    "# I1.Write a Python program to read a random line from a file.\n",
    "\n",
    "import random\n",
    "\n",
    "f = open(\"name.txt\",'r')\n",
    "\n",
    "for i in f:\n",
    "    print(random.choice(f.readlines()))    "
   ]
  },
  {
   "cell_type": "code",
   "execution_count": 83,
   "id": "10c69f5e-9154-47d8-9841-b5447cab1b9a",
   "metadata": {},
   "outputs": [
    {
     "name": "stdin",
     "output_type": "stream",
     "text": [
      "Enter the degree 60\n"
     ]
    },
    {
     "name": "stdout",
     "output_type": "stream",
     "text": [
      "Radian of degree 60 is 1.0471975511965976\n"
     ]
    }
   ],
   "source": [
    "# I2. Write a Python program to convert degree to radian\n",
    "\n",
    "import math\n",
    "\n",
    "d = int(input(\"Enter the degree\"))\n",
    "print(f\"Radian of degree {d} is\",math.radians(d))"
   ]
  },
  {
   "cell_type": "code",
   "execution_count": 89,
   "id": "336ea243-c74b-4d9c-87ad-4b7cccd63055",
   "metadata": {},
   "outputs": [
    {
     "name": "stdin",
     "output_type": "stream",
     "text": [
      "Enter the value of base 1-> 10\n",
      "Enter the value of base 2-> 20\n",
      "Enter the height 8\n"
     ]
    },
    {
     "name": "stdout",
     "output_type": "stream",
     "text": [
      "area of trapazoid is--> 120.0\n"
     ]
    }
   ],
   "source": [
    "# I3. Write a Python program to calculate the area of a trapezoid\n",
    "\n",
    "a = float(input(\"Enter the value of base 1->\"))\n",
    "b = float(input(\"Enter the value of base 2->\"))\n",
    "he = float(input(\"Enter the height\"))\n",
    "\n",
    "area = ((a + b) / 2) * he\n",
    "\n",
    "print(\"area of trapazoid is-->\",area)"
   ]
  },
  {
   "cell_type": "code",
   "execution_count": 90,
   "id": "822a67c1-92d2-4317-b787-7465c9c971fd",
   "metadata": {},
   "outputs": [
    {
     "name": "stdin",
     "output_type": "stream",
     "text": [
      "Enter the height of parallelogram 20\n",
      "Enter the base of parallelogram 30\n"
     ]
    },
    {
     "name": "stdout",
     "output_type": "stream",
     "text": [
      "Area of parallelogram is=> 600.0\n"
     ]
    }
   ],
   "source": [
    "# I4.Write a Python program to calculate the area of a parallelogram\n",
    "\n",
    "he  = float(input(\"Enter the height of parallelogram\"))\n",
    "ba = float(input(\"Enter the base of parallelogram\"))\n",
    "\n",
    "area = he * ba\n",
    "\n",
    "print(\"Area of parallelogram is=>\",area)"
   ]
  },
  {
   "cell_type": "code",
   "execution_count": 97,
   "id": "46087def-8f44-4fe7-bb2d-881a33efe28d",
   "metadata": {},
   "outputs": [
    {
     "name": "stdin",
     "output_type": "stream",
     "text": [
      "Enter height of cylinder-> 4\n",
      "Enter radius of cylinder-> 6\n"
     ]
    },
    {
     "name": "stdout",
     "output_type": "stream",
     "text": [
      "Volume of cylinder--> 452.3893421169302\n",
      "Surface of cylinder is--> 376.99111843077515\n"
     ]
    }
   ],
   "source": [
    "# I5.Write a Python program to calculate surface volume and area of a cylinder\n",
    "\n",
    "import math as m\n",
    "\n",
    "h = float(input(\"Enter height of cylinder->\"))\n",
    "\n",
    "r = float(input(\"Enter radius of cylinder->\"))\n",
    "\n",
    "volume = (m.pi*r**2*h)\n",
    "\n",
    "surface = ((2*m.pi*r)*h) +  (2*(m.pi*r**2))\n",
    "\n",
    "print(\"Volume of cylinder-->\",volume)\n",
    "\n",
    "print(\"Surface of cylinder is-->\",surface)"
   ]
  },
  {
   "cell_type": "code",
   "execution_count": 112,
   "id": "bbcf07a9-e788-4b04-85d3-e539d834e8c7",
   "metadata": {},
   "outputs": [
    {
     "name": "stdin",
     "output_type": "stream",
     "text": [
      "Enter an integer: 12\n"
     ]
    },
    {
     "name": "stdout",
     "output_type": "stream",
     "text": [
      "1 ,2 ,3 ,4 ,6 ,12 ,The total of divisors are: 28\n"
     ]
    }
   ],
   "source": [
    "# I6.Write a Python program to returns sum of all divisors of a number\n",
    "sum = 0\n",
    "n=int(input(\"Enter an integer:\"))\n",
    "for i in range(1,n+1):\n",
    "    if(n%i==0):\n",
    "        sum +=i\n",
    "        print(i,',',end=\"\")\n",
    "print(\"The total of divisors are:\",sum)"
   ]
  },
  {
   "cell_type": "code",
   "execution_count": 128,
   "id": "53ad7a71-9fd6-4548-be8e-1aaa7e3d44ba",
   "metadata": {},
   "outputs": [
    {
     "name": "stdin",
     "output_type": "stream",
     "text": [
      "Enter the list of numbers seperate each of them by comma 12,2,3,4,5,6,7,8,13\n"
     ]
    },
    {
     "name": "stdout",
     "output_type": "stream",
     "text": [
      "Minimum number from the given list 2\n",
      "Maximum number from the given list-> 13\n"
     ]
    }
   ],
   "source": [
    "# I7. Write a Python program to find the maximum and minimum numbers from the specified decimal numbers.\n",
    "\n",
    "no = input(\"Enter the list of numbers seperate each of them by comma\")\n",
    "\n",
    "nol = no.split(',')\n",
    "a = nol[0]\n",
    "b = nol[0]\n",
    "for i in nol:\n",
    "    if int(i)>int(a):\n",
    "        a=i\n",
    "    elif int(i)<int(b):\n",
    "        b=i\n",
    "print(\"Minimum number from the given list\",b)\n",
    "print(\"Maximum number from the given list->\",a)"
   ]
  },
  {
   "cell_type": "markdown",
   "id": "48947749-a8aa-4193-83da-3ff4c40ad827",
   "metadata": {},
   "source": [
    "### Assignment Level Advance  "
   ]
  },
  {
   "cell_type": "code",
   "execution_count": 198,
   "id": "72838791-a366-4771-91a2-5a9642b951c3",
   "metadata": {},
   "outputs": [
    {
     "name": "stdout",
     "output_type": "stream",
     "text": [
      "Sum of [2.45, 2.69, 2.45, 3.45, 2.0, 0.04, 7.25] numbers is-> 20.330000000000002\n",
      "After sorting the list---------------> [0.04, 2.0, 2.45, 2.45, 2.69, 3.45, 7.25]\n"
     ]
    }
   ],
   "source": [
    "# A1. Write a Python program to find the sum of the following decimal numbers and\n",
    "# display the numbers in sorted order\n",
    "# Decimal numbers : 2.45, 2.69, 2.45, 3.45, 2.00, 0.04, 7.25\n",
    "#Expected Output :\n",
    "#Sum: 20.33\n",
    "#Sorted order: [Decimal('0.04'), Decimal('2.00'), Decimal('2.45'), Decimal('2.45'), Decimal('2.69'), Decimal('3.45'), Decimal('7.25')]\n",
    "\n",
    "#import math\n",
    "#list(map(Decimal,'2.45 2.69 2.45 3.45 2.00 0.04 7.25'.split()))\n",
    "li =  [2.45,2.69,2.45,3.45,2.00,0.04,7.25]\n",
    "print(f\"Sum of {li} numbers is->\",math.fsum(li))\n",
    "\n",
    "   \n",
    "\n",
    "li.sort()\n",
    "    \n",
    "print(\"After sorting the list--------------->\",li)"
   ]
  },
  {
   "cell_type": "code",
   "execution_count": 203,
   "id": "436e4ab2-69d0-44a9-bec4-b23d62ee7b73",
   "metadata": {},
   "outputs": [
    {
     "name": "stdin",
     "output_type": "stream",
     "text": [
      "Enter any number 144\n"
     ]
    },
    {
     "name": "stdout",
     "output_type": "stream",
     "text": [
      "Square root of 144.0 is  12.0\n",
      "Exponent of 144.0 is  3.454660656717546e+62\n"
     ]
    }
   ],
   "source": [
    "# A2.Write a Python program to get the square root and exponential of a given decimal number\n",
    "\n",
    "import math\n",
    "\n",
    "a = float(input(\"Enter any number\"))\n",
    "\n",
    "print(f\"Square root of {a} is \",math.sqrt(a))\n",
    "\n",
    "print(f\"Exponent of {a} is \",math.exp(a))"
   ]
  },
  {
   "cell_type": "code",
   "execution_count": 2,
   "id": "95e06fc3-b110-4c65-8e66-1d63bebae070",
   "metadata": {},
   "outputs": [
    {
     "name": "stdout",
     "output_type": "stream",
     "text": [
      "Addition of 2/3 and 3/7 is-> 23/21\n",
      "Subtraction of 2/3 and 3/7 is-> 5/21\n",
      "Multiplication of 2/3 and 3/7 is-> 2/7\n",
      "Division of 2/3 and 3/7 is-> 14/9\n"
     ]
    }
   ],
   "source": [
    "# A3.Write a Python program to add, subtract, multiply and divide two fractions.\n",
    "# Expected Output : \n",
    "# 2/3 + 3/7 = 23/21\n",
    "# 2/3 - 3/7 = 5/21\n",
    "# 2/3 * 3/7 = 2/7\n",
    "# 2/3 / 3/7 = 14/9\n",
    "\n",
    "\n",
    "import fractions\n",
    "\n",
    "f1 = fractions.Fraction(2,3)\n",
    "\n",
    "f2 = fractions.Fraction(3,7)\n",
    "\n",
    "print(f\"Addition of {f1} and {f2} is->\",f1+f2)\n",
    "\n",
    "print(f\"Subtraction of {f1} and {f2} is->\",f1-f2)\n",
    "\n",
    "print(f\"Multiplication of {f1} and {f2} is->\",f1*f2)\n",
    "\n",
    "print(f\"Division of {f1} and {f2} is->\",f1/f2)\n"
   ]
  },
  {
   "cell_type": "code",
   "execution_count": null,
   "id": "d4e2607a-052b-41ba-8cfe-41eca803b6d4",
   "metadata": {},
   "outputs": [],
   "source": []
  }
 ],
 "metadata": {
  "kernelspec": {
   "display_name": "Python 3",
   "language": "python",
   "name": "python3"
  },
  "language_info": {
   "codemirror_mode": {
    "name": "ipython",
    "version": 3
   },
   "file_extension": ".py",
   "mimetype": "text/x-python",
   "name": "python",
   "nbconvert_exporter": "python",
   "pygments_lexer": "ipython3",
   "version": "3.8.8"
  }
 },
 "nbformat": 4,
 "nbformat_minor": 5
}
