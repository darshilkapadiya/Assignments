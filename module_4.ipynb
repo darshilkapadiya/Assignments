{
 "cells": [
  {
   "cell_type": "markdown",
   "id": "9b94f8c2",
   "metadata": {},
   "source": [
    "# ------------------------------------ Module 4 -------------------------------------------------------"
   ]
  },
  {
   "cell_type": "markdown",
   "id": "c5f933cb",
   "metadata": {},
   "source": [
    "### 1) What is File function in python? What is keywords to create and write file."
   ]
  },
  {
   "cell_type": "markdown",
   "id": "8f4a3615",
   "metadata": {},
   "source": [
    "- Python file object provides methods and attributes to access and manipulate files. Using file objects, we can read or write any files. Whenever we open a file to perform any operations on it, Python returns a file object. To create a file object in Python use the built-in functions, such as open() and os.\n",
    "\n",
    "- To create the file 'x' keyword is used and to write 'w' keyword is used. "
   ]
  },
  {
   "cell_type": "markdown",
   "id": "90634220",
   "metadata": {},
   "source": [
    "### 2) Write a Python program to read an entire text file."
   ]
  },
  {
   "cell_type": "code",
   "execution_count": 5,
   "id": "76163cb7",
   "metadata": {},
   "outputs": [
    {
     "name": "stdout",
     "output_type": "stream",
     "text": [
      "Output of Read function is \n",
      "Date\t\t\tAmount\t\t\tTransact status\t\t\tAvailable Balance\n",
      "\n",
      "\n",
      "09/24/21 11:26:28\t20000\t\tCredited\t\t9990199\n",
      "09/24/21 11:26:37\t3000\t\tDebited\t\t9987199\n",
      "09/24/21 11:27:11\t20010203\t\tCredited\t\t29997402\n"
     ]
    }
   ],
   "source": [
    "file1 = open(\"transaction.txt\",\"r\") \n",
    "  \n",
    "print(\"Output of Read function is \")\n",
    "print(file1.read())"
   ]
  },
  {
   "cell_type": "markdown",
   "id": "cc3bdc80",
   "metadata": {},
   "source": [
    "### 3) Write a Python program to append text to a file and display the text."
   ]
  },
  {
   "cell_type": "code",
   "execution_count": 6,
   "id": "fc802df2",
   "metadata": {},
   "outputs": [],
   "source": [
    "file1 = open(\"myfile.txt\", \"a\")  # append mode\n",
    "file1.write(\"Today \\n\")\n",
    "file1.close()"
   ]
  },
  {
   "cell_type": "markdown",
   "id": "35c92534",
   "metadata": {},
   "source": [
    "### 4)  Write a Python program to read first n lines of a file."
   ]
  },
  {
   "cell_type": "code",
   "execution_count": 21,
   "id": "7d9f14de",
   "metadata": {},
   "outputs": [
    {
     "name": "stdout",
     "output_type": "stream",
     "text": [
      "Enter number--->1\n",
      "yesterday\n",
      "\n"
     ]
    }
   ],
   "source": [
    "try:\n",
    "    inp = int(input(\"Enter number--->\"))\n",
    "    f = open(\"myfile.txt\", 'r')\n",
    "    variable = f.readlines()\n",
    "    print(variable[inp-1])\n",
    "    f.close()\n",
    "except Exception as i:\n",
    "    print(i)"
   ]
  },
  {
   "cell_type": "markdown",
   "id": "dede3c43",
   "metadata": {},
   "source": [
    "### 5) Write a Python program to read last n lines of a file."
   ]
  },
  {
   "cell_type": "code",
   "execution_count": 26,
   "id": "830807f4",
   "metadata": {},
   "outputs": [
    {
     "name": "stdout",
     "output_type": "stream",
     "text": [
      "['Today \\n', 'tommorow\\n', '\\n', '\\n', '\\n', '\\n']\n"
     ]
    }
   ],
   "source": [
    "a_file = open(\"myfile.txt\", \"r\")\n",
    "lines = a_file.readlines()\n",
    "last_lines = lines[-6:]\n",
    "\n",
    "print(last_lines)\n",
    "a_file.close()"
   ]
  },
  {
   "cell_type": "markdown",
   "id": "2497fc64",
   "metadata": {},
   "source": [
    "### 6) Write a Python program to read a file line by line and store it into a list"
   ]
  },
  {
   "cell_type": "code",
   "execution_count": 31,
   "id": "1695f73c",
   "metadata": {},
   "outputs": [
    {
     "name": "stdout",
     "output_type": "stream",
     "text": [
      "['yesterday\\n', 'Today \\n', 'Today \\n', 'tommorow\\n', '\\n', '\\n', '\\n', '\\n']\n",
      "['yesterday', 'Today', 'Today', 'tommorow', '', '', '', '']\n"
     ]
    }
   ],
   "source": [
    "with open(\"myfile.txt\") as f:\n",
    "    content_list = f.readlines()\n",
    "\n",
    "# print the list\n",
    "print(content_list)\n",
    "\n",
    "# remove new line characters\n",
    "content_list = [x.strip() for x in content_list]\n",
    "print(content_list)"
   ]
  },
  {
   "cell_type": "markdown",
   "id": "8833cc48",
   "metadata": {},
   "source": [
    "### 7) Write a Python program to read a file line by line store it into a variable"
   ]
  },
  {
   "cell_type": "code",
   "execution_count": 32,
   "id": "bc7669a2",
   "metadata": {},
   "outputs": [
    {
     "name": "stdout",
     "output_type": "stream",
     "text": [
      "['yesterday\\n', 'Today \\n', 'Today \\n', 'tommorow\\n', '\\n', '\\n', '\\n', '\\n']\n"
     ]
    }
   ],
   "source": [
    "def file_read(fname):\n",
    "        with open (fname, \"r\") as myfile:\n",
    "                data=myfile.readlines()\n",
    "                print(data)\n",
    "file_read('myfile.txt')"
   ]
  },
  {
   "cell_type": "markdown",
   "id": "0840ad1c",
   "metadata": {},
   "source": [
    "### 8) Write a python program to find the longest words."
   ]
  },
  {
   "cell_type": "code",
   "execution_count": 38,
   "id": "6595143d",
   "metadata": {},
   "outputs": [
    {
     "name": "stdout",
     "output_type": "stream",
     "text": [
      "List of words from a file ['yesterday', 'Today', 'Today', 'tommorow', '', '', '', '']\n",
      "Longest word from the above list is---> yesterday\n"
     ]
    }
   ],
   "source": [
    "with open(\"myfile.txt\") as f:\n",
    "    content_list = f.readlines()\n",
    "\n",
    "# print the list\n",
    "# remove new line characters\n",
    "content_list = [x.strip() for x in content_list]\n",
    "\n",
    "print(\"List of words from a file\",content_list)\n",
    "\n",
    "long_word = max(content_list)\n",
    "print(\"Longest word from the above list is--->\",long_word)"
   ]
  },
  {
   "cell_type": "markdown",
   "id": "fba1141d",
   "metadata": {},
   "source": [
    "### 9) Write a Python program to count the number of lines in a text file."
   ]
  },
  {
   "cell_type": "code",
   "execution_count": 39,
   "id": "b429f882",
   "metadata": {},
   "outputs": [
    {
     "name": "stdout",
     "output_type": "stream",
     "text": [
      "Total Number of lines: 8\n"
     ]
    }
   ],
   "source": [
    "with open(r\"myfile.txt\", 'r') as fp:\n",
    "    lines = len(fp.readlines())\n",
    "    print('Total Number of lines:', lines)"
   ]
  },
  {
   "cell_type": "markdown",
   "id": "b632d30a",
   "metadata": {},
   "source": [
    "### 10) Write a Python program to count the frequency of words in a file."
   ]
  },
  {
   "cell_type": "code",
   "execution_count": 50,
   "id": "06d0e966",
   "metadata": {},
   "outputs": [
    {
     "name": "stdout",
     "output_type": "stream",
     "text": [
      "Enter the file name: myfile.txt\n",
      "Lines yesterday\n",
      "\n",
      "['yesterday']\n",
      "yesterday\n",
      "Lines Today \n",
      "\n",
      "['Today']\n",
      "Today\n",
      "Lines Today \n",
      "\n",
      "['Today']\n",
      "Today\n",
      "Lines tommorow\n",
      "\n",
      "['tommorow']\n",
      "tommorow\n",
      "Lines \n",
      "\n",
      "[]\n",
      "Lines \n",
      "\n",
      "[]\n",
      "Lines \n",
      "\n",
      "[]\n",
      "Lines \n",
      "\n",
      "[]\n",
      "{'yesterday': 1, 'Today': 2, 'tommorow': 1}\n"
     ]
    }
   ],
   "source": [
    "fname = input('Enter the file name: ')\n",
    "try:\n",
    "    fhand = open(fname)\n",
    "    counts = dict()\n",
    "    for line in fhand:\n",
    "        print(\"Lines\",line)\n",
    "        words = line.split()\n",
    "        print(words)\n",
    "        for word in words:\n",
    "            print(word)\n",
    "            if word in counts:\n",
    "                counts[word] += 1\n",
    "            else:\n",
    "                counts[word] = 1\n",
    "    print(counts)\n",
    "except:\n",
    "    print('File cannot be opened:', fname)"
   ]
  },
  {
   "cell_type": "markdown",
   "id": "7d155f2c",
   "metadata": {},
   "source": [
    "### 11) Write a Python program to write a list to a file."
   ]
  },
  {
   "cell_type": "code",
   "execution_count": 51,
   "id": "bda8d3df",
   "metadata": {},
   "outputs": [
    {
     "name": "stdout",
     "output_type": "stream",
     "text": [
      "Done\n"
     ]
    }
   ],
   "source": [
    "names = ['Jessa', 'Eric', 'Bob']\n",
    "\n",
    "# open file in write mode\n",
    "with open('myfile.txt', 'w') as fp:\n",
    "    for item in names:\n",
    "        # write each item on a new line\n",
    "        fp.write(\"%s\\n\" % item)\n",
    "    print('Done')"
   ]
  },
  {
   "cell_type": "markdown",
   "id": "965c39bc",
   "metadata": {},
   "source": [
    "### 12) Write a Python program to copy the contents of a file to another file"
   ]
  },
  {
   "cell_type": "code",
   "execution_count": 63,
   "id": "f87fed3e",
   "metadata": {},
   "outputs": [
    {
     "name": "stdout",
     "output_type": "stream",
     "text": [
      "Contents of the first file\n",
      "\n",
      "Transfered in the second file\n",
      "\n",
      "named second.txt\n",
      "\n"
     ]
    }
   ],
   "source": [
    "with open('first.txt','r') as firstfile, open('second.txt','a') as secondfile:\n",
    "      \n",
    "    # read content from first file\n",
    "    for line in firstfile:\n",
    "            print(line)\n",
    "            # append content to second file\n",
    "            secondfile.write(line)"
   ]
  },
  {
   "cell_type": "markdown",
   "id": "4ca404af",
   "metadata": {},
   "source": [
    "### 13) Explain Exception handling? What is an Error in Python?"
   ]
  },
  {
   "cell_type": "markdown",
   "id": "255c0f67",
   "metadata": {},
   "source": [
    "Ans \n",
    "- An exception is an event, which occurs during the execution of a program that disrupts the normal flow of the program's instructions. In general, when a Python script encounters a situation that it cannot cope with, it raises an exception. An exception is a Python object that represents an error.\n",
    "\n",
    "\n",
    "- Errors are the problems in a program due to which the program will stop the execution. On the other hand, exceptions are raised when some internal events occur which changes the normal flow of the program. Two types of Error occurs in python. Syntax errors. Logical errors (Exceptions)"
   ]
  },
  {
   "cell_type": "markdown",
   "id": "3f8f7f92",
   "metadata": {},
   "source": [
    "### 14) How many except statements can a try-except block have? Name Some built-in exception classes:"
   ]
  },
  {
   "cell_type": "markdown",
   "id": "7c7a6eb5",
   "metadata": {},
   "source": [
    "Ans \n",
    "- There has to be at least one except statement.\n",
    "\n",
    "##### These are some errors occur during exception\n",
    "\n",
    "\n",
    "- 1) keyerror\n",
    "\n",
    "\n",
    "- 2) valueerror\n",
    "\n",
    "\n",
    "- 3) indexerror\n",
    "\n",
    "\n",
    "- 4) ImportError\n",
    "\n",
    "\n",
    "- 5) ArithmeticError"
   ]
  },
  {
   "cell_type": "markdown",
   "id": "22796987",
   "metadata": {},
   "source": [
    "### 15) When will the else part of try-except-else be executed?"
   ]
  },
  {
   "cell_type": "markdown",
   "id": "622423d7",
   "metadata": {},
   "source": [
    "#### Ans \n",
    "- The else part is executed when no exception occurs"
   ]
  },
  {
   "cell_type": "markdown",
   "id": "181d3b01",
   "metadata": {},
   "source": [
    "### 16) Can one block of except statements handle multiple exception?"
   ]
  },
  {
   "cell_type": "markdown",
   "id": "4f8e479f",
   "metadata": {},
   "source": [
    "#### Ans\n",
    "- Yes, Each type of exception can be specified directly. There is no need to put it in a list."
   ]
  },
  {
   "cell_type": "markdown",
   "id": "94b879b8",
   "metadata": {},
   "source": [
    "### 17) When is the finally block executed?"
   ]
  },
  {
   "cell_type": "markdown",
   "id": "fa89002d",
   "metadata": {},
   "source": [
    "#### Ans \n",
    "\n",
    "- Whether or not exception occur finally block is always executed."
   ]
  },
  {
   "cell_type": "markdown",
   "id": "2c5a1832",
   "metadata": {},
   "source": [
    "### 18) What happens when „1‟== 1 is executed?"
   ]
  },
  {
   "cell_type": "markdown",
   "id": "db4df6de",
   "metadata": {},
   "source": [
    "#### Ans \n",
    "\n",
    "- It simply evaluates to false and does not raise any exception.\n"
   ]
  },
  {
   "cell_type": "markdown",
   "id": "1e4c38c8",
   "metadata": {},
   "source": [
    "### 19) How Do You Handle Exceptions With Try/Except/Finally In Python? Explain with coding snippets."
   ]
  },
  {
   "cell_type": "code",
   "execution_count": 73,
   "id": "924587a4",
   "metadata": {},
   "outputs": [
    {
     "name": "stdout",
     "output_type": "stream",
     "text": [
      "The index and element from the array is 0 Python\n",
      "The index and element from the array is 1 Exceptions\n",
      "The index and element from the array is 2 try and except\n",
      "list index out of range\n"
     ]
    }
   ],
   "source": [
    "a = [\"Python\", \"Exceptions\", \"try and except\"]  \n",
    "try:  \n",
    "    #looping through the elements of the array a, choosing a range that goes beyond the length of the array  \n",
    "     for i in range( 4 ):  \n",
    "        print( \"The index and element from the array is\", i, a[i] )  \n",
    "#if an error occurs in the try block, then except block will be executed by the Python interpreter       \n",
    "except Exception as e:  \n",
    "    print (e)  "
   ]
  },
  {
   "cell_type": "markdown",
   "id": "02b6cce3",
   "metadata": {},
   "source": [
    "### 20) Write python program that user to enter only odd numbers, else will raise an exception."
   ]
  },
  {
   "cell_type": "code",
   "execution_count": 78,
   "id": "f5f3485e",
   "metadata": {},
   "outputs": [
    {
     "name": "stdout",
     "output_type": "stream",
     "text": [
      "Enter any odd number2\n"
     ]
    },
    {
     "ename": "ValueError",
     "evalue": "Please enter odd number only",
     "output_type": "error",
     "traceback": [
      "\u001b[0;31m---------------------------------------------------------------------------\u001b[0m",
      "\u001b[0;31mValueError\u001b[0m                                Traceback (most recent call last)",
      "Input \u001b[0;32mIn [78]\u001b[0m, in \u001b[0;36m<module>\u001b[0;34m\u001b[0m\n\u001b[1;32m      4\u001b[0m     \u001b[38;5;28mprint\u001b[39m(\u001b[38;5;124m\"\u001b[39m\u001b[38;5;124mNumber is odd\u001b[39m\u001b[38;5;124m\"\u001b[39m)\n\u001b[1;32m      5\u001b[0m \u001b[38;5;28;01melse\u001b[39;00m:\n\u001b[0;32m----> 6\u001b[0m     \u001b[38;5;28;01mraise\u001b[39;00m \u001b[38;5;167;01mValueError\u001b[39;00m(\u001b[38;5;124m\"\u001b[39m\u001b[38;5;124mPlease enter odd number only\u001b[39m\u001b[38;5;124m\"\u001b[39m)\n",
      "\u001b[0;31mValueError\u001b[0m: Please enter odd number only"
     ]
    }
   ],
   "source": [
    "num = int(input(\"Enter any odd number\"))\n",
    "\n",
    "if num%2 != 0:\n",
    "    print(\"Number is odd\")\n",
    "else:\n",
    "    raise ValueError(\"Please enter odd number only\")"
   ]
  },
  {
   "cell_type": "markdown",
   "id": "2cd754a5",
   "metadata": {},
   "source": [
    "### 21) What are oops concepts? Is multiple inheritance supported in python"
   ]
  },
  {
   "cell_type": "markdown",
   "id": "e2a2a446",
   "metadata": {},
   "source": [
    "#### Ans \n",
    "\n",
    "- In Python, object-oriented Programming (OOPs) is a programming paradigm that uses objects and classes in programming. It aims to implement real-world entities like inheritance, polymorphisms, encapsulation, etc. in the programming. The main concept of OOPs is to bind the data and the functions that work on that together as a single unit so that no other part of the code can access this data.\n",
    "\n",
    "\n",
    "- Yes multiple inheritance is supported in python."
   ]
  },
  {
   "cell_type": "markdown",
   "id": "ff7ad688",
   "metadata": {},
   "source": [
    "### 22) How to Define a Class in Python? What Is Self? Give An Example Of A Python Class"
   ]
  },
  {
   "cell_type": "markdown",
   "id": "96248b61",
   "metadata": {},
   "source": [
    "Ans \n",
    "\n",
    "- To define class first write 'class' keyword and then the class name and then colon(for ex- class animal:)\n",
    "\n",
    "\n",
    "- self represents the current object of the class.\n"
   ]
  },
  {
   "cell_type": "code",
   "execution_count": 79,
   "id": "2268bd72",
   "metadata": {},
   "outputs": [
    {
     "name": "stdout",
     "output_type": "stream",
     "text": [
      "5\n"
     ]
    }
   ],
   "source": [
    "#example of python class\n",
    "\n",
    "class MyClass:\n",
    "  x = 5\n",
    "p1 = MyClass()\n",
    "print(p1.x)\n"
   ]
  },
  {
   "cell_type": "markdown",
   "id": "ebddb446",
   "metadata": {},
   "source": [
    "### 23) Write a Python class named Rectangle constructed by a length and width and a method which will compute the area of a rectangle"
   ]
  },
  {
   "cell_type": "code",
   "execution_count": 81,
   "id": "cfa03835",
   "metadata": {},
   "outputs": [
    {
     "name": "stdout",
     "output_type": "stream",
     "text": [
      "120\n"
     ]
    }
   ],
   "source": [
    "class Rectangle():\n",
    "    def __init__(self, l, w):\n",
    "        self.length = l\n",
    "        self.width  = w\n",
    "\n",
    "    def rectangle_area(self):\n",
    "        return self.length*self.width\n",
    "\n",
    "newRectangle = Rectangle(12, 10)\n",
    "print(newRectangle.rectangle_area())"
   ]
  },
  {
   "cell_type": "markdown",
   "id": "f86526a4",
   "metadata": {},
   "source": [
    "### 24) Write a Python class named Circle constructed by a radius and two methods which will compute the area and the perimeter of a circle"
   ]
  },
  {
   "cell_type": "code",
   "execution_count": 82,
   "id": "e6fbff09",
   "metadata": {},
   "outputs": [
    {
     "name": "stdout",
     "output_type": "stream",
     "text": [
      "200.96\n",
      "50.24\n"
     ]
    }
   ],
   "source": [
    "class Circle():\n",
    "    def __init__(self, r):\n",
    "        self.radius = r\n",
    "\n",
    "    def area(self):\n",
    "        return self.radius**2*3.14\n",
    "    \n",
    "    def perimeter(self):\n",
    "        return 2*self.radius*3.14\n",
    "\n",
    "NewCircle = Circle(8)\n",
    "print(NewCircle.area())\n",
    "print(NewCircle.perimeter())"
   ]
  },
  {
   "cell_type": "markdown",
   "id": "4c8b0e76",
   "metadata": {},
   "source": [
    "### 25) Explain Inheritance in Python with an example? What is init? Or What Is A Constructor In Python?"
   ]
  },
  {
   "cell_type": "markdown",
   "id": "77ad3ecc",
   "metadata": {},
   "source": [
    "Ans\n",
    "\n",
    "- Inheritance is the capability of one class to derive or inherit the properties from another class\n",
    "\n",
    "\n",
    "- \"__init__\" is a reserved method in python classes. It is known as a constructor in OOP concepts. This method called when an object is created from the class and it allows the class to initialize the attributes of a class"
   ]
  },
  {
   "cell_type": "code",
   "execution_count": 83,
   "id": "5e797b35",
   "metadata": {},
   "outputs": [
    {
     "name": "stdout",
     "output_type": "stream",
     "text": [
      "Geek1 False\n",
      "Geek2 True\n"
     ]
    }
   ],
   "source": [
    "class Person(object):\n",
    " \n",
    "    # Constructor\n",
    "    def __init__(self, name):\n",
    "        self.name = name\n",
    " \n",
    "    # To get name\n",
    "    def getName(self):\n",
    "        return self.name\n",
    " \n",
    "    # To check if this person is an employee\n",
    "    def isEmployee(self):\n",
    "        return False\n",
    " \n",
    " \n",
    "# Inherited or Subclass (Note Person in bracket)\n",
    "class Employee(Person):\n",
    " \n",
    "    # Here we return true\n",
    "    def isEmployee(self):\n",
    "        return True\n",
    " \n",
    " \n",
    "# Driver code\n",
    "emp = Person(\"Geek1\")  # An Object of Person\n",
    "print(emp.getName(), emp.isEmployee())\n",
    " \n",
    "emp = Employee(\"Geek2\")  # An Object of Employee\n",
    "print(emp.getName(), emp.isEmployee())"
   ]
  },
  {
   "cell_type": "markdown",
   "id": "f03f08cc",
   "metadata": {},
   "source": [
    "### 26) What is Instantiation in terms of OOP terminology?"
   ]
  },
  {
   "cell_type": "markdown",
   "id": "03b91fd1",
   "metadata": {},
   "source": [
    "Ans\n",
    "\n",
    "- Instantiate (a verb) and instantiation (the noun) in computer science refer to the creation of an object (or an “instance” of a given class) in an object-oriented programming (OOP) language. Referencing a class declaration, an instantiated object is named and created, in memory or on disk."
   ]
  },
  {
   "cell_type": "markdown",
   "id": "01f5deba",
   "metadata": {},
   "source": [
    "### 27) What is used to check whether an object o is an instance of class A?"
   ]
  },
  {
   "cell_type": "markdown",
   "id": "c5159324",
   "metadata": {},
   "source": [
    "Ans\n",
    "\n",
    "- Using isinstance() function, we can test whether an object/variable is an instance of the specified type or class such as int or list. In the case of inheritance, we can checks if the specified class is the parent class of an object. For example, isinstance(x, int) to check if x is an instance of a class int .29"
   ]
  },
  {
   "cell_type": "markdown",
   "id": "17799946",
   "metadata": {},
   "source": [
    "### 28) What relationship is appropriate for Course and Faculty?"
   ]
  },
  {
   "cell_type": "markdown",
   "id": "608735a4",
   "metadata": {},
   "source": [
    "#### Ans - association Its a relationship between two classes and that relationship is established through their objects."
   ]
  },
  {
   "cell_type": "markdown",
   "id": "9fad1b64",
   "metadata": {},
   "source": [
    "### 29) What relationship is appropriate for Student and Person?"
   ]
  },
  {
   "cell_type": "markdown",
   "id": "f5464a19",
   "metadata": {},
   "source": [
    "Ans - Student and Person is appropriate for inheritance relationship"
   ]
  }
 ],
 "metadata": {
  "kernelspec": {
   "display_name": "Python 3 (ipykernel)",
   "language": "python",
   "name": "python3"
  },
  "language_info": {
   "codemirror_mode": {
    "name": "ipython",
    "version": 3
   },
   "file_extension": ".py",
   "mimetype": "text/x-python",
   "name": "python",
   "nbconvert_exporter": "python",
   "pygments_lexer": "ipython3",
   "version": "3.8.10"
  }
 },
 "nbformat": 4,
 "nbformat_minor": 5
}
