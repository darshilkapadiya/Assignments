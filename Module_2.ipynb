{
 "cells": [
  {
   "cell_type": "markdown",
   "id": "16b2cc6a",
   "metadata": {},
   "source": [
    "# Module 2"
   ]
  },
  {
   "cell_type": "markdown",
   "id": "826afb0c",
   "metadata": {},
   "source": [
    "## Topic - Core python concepts\n",
    "### Introduction of python,If, If- else, Nested if-else,while,for-loop"
   ]
  },
  {
   "cell_type": "markdown",
   "id": "63bb4b78",
   "metadata": {},
   "source": [
    "\n",
    "## Assignment Level Basic"
   ]
  },
  {
   "cell_type": "markdown",
   "id": "26a39d58",
   "metadata": {},
   "source": [
    "B1.What is Python ,Name some of the features of Python.\n",
    "\n",
    "AnsB1 - Python is a dynamic, high level, free open source and interpreted programming language. It supports object-oriented programming as well as procedural oriented programming. In Python, we don’t need to declare the type of variable because it is a dynamically typed language. For example, x = 10 Here, x can be anything such as String, int, etc.\n",
    "\n",
    "#### Features of Python-\n",
    "\n",
    "1. Easy to code:\n",
    "\n",
    "2. Free and Open Source:\n",
    "\n",
    "3. Object-Oriented Language:\n",
    "\n",
    "4. GUI Programming Support:\n",
    "\n",
    "5. High-Level Language:\n",
    "\n",
    "6. Extensible feature:\n",
    "\n",
    "7. Python is Portable language:\n",
    "\n",
    "8. Python is Integrated language:\n",
    "\n",
    "9. Interpreted Language:\n",
    "\n",
    "10. Large Standard Library\n",
    "\n",
    "11. Dynamically Typed Language:\n"
   ]
  },
  {
   "cell_type": "code",
   "execution_count": 31,
   "id": "842eae86",
   "metadata": {},
   "outputs": [
    {
     "name": "stdout",
     "output_type": "stream",
     "text": [
      "Python version:  3.8.8 (default, Apr 13 2021, 15:08:03) [MSC v.1916 64 bit (AMD64)]\n"
     ]
    }
   ],
   "source": [
    "# B2: Write a Python program to get the Python version you are using?\n",
    "# AnsB2\n",
    "\n",
    "import sys\n",
    "print(\"Python version: \", sys.version)"
   ]
  },
  {
   "cell_type": "markdown",
   "id": "f5b370a2",
   "metadata": {},
   "source": [
    "B3. Is python the right choice for Web based Programming?\n",
    "\n",
    "AnsB3 -  Yes, Python is another open source programming that has become popular for creating web-related applications and large programs. Scripts written in Python are often very clear to read; the language is also known for its flexibility. Whether you’re looking for database tools, image manipulation scripts, or something else entirely, if it’s written in Python, you’ll find it here.\n"
   ]
  },
  {
   "cell_type": "markdown",
   "id": "57ab02b1",
   "metadata": {},
   "source": [
    "B4. Why was the language called as Python?\n",
    "\n",
    "AnsB4 - When he began implementing Python, Guido van Rossum was also reading the published scripts from “Monty Python’s Flying Circus”, a BBC comedy series from the 1970s. Van Rossum thought he needed a name that was short, unique, and slightly mysterious, so he decided to call the language Python."
   ]
  },
  {
   "cell_type": "code",
   "execution_count": 25,
   "id": "c0be05a3",
   "metadata": {},
   "outputs": [
    {
     "name": "stdout",
     "output_type": "stream",
     "text": [
      "Enter number0\n",
      "Number is Zero\n"
     ]
    }
   ],
   "source": [
    "# B5.Write a Python program to check if a number is positive, negative or zero.\n",
    "#AnsB5 -\n",
    "    \n",
    "a = float(input(\"Enter number\"))\n",
    "    \n",
    "if a > 0:\n",
    "       print(\"number is positive\")\n",
    "elif a < 0:\n",
    "        print(\"Number is Negative\")\n",
    "else:\n",
    "        print(\"Number is Zero\")"
   ]
  },
  {
   "cell_type": "markdown",
   "id": "2fc9e243",
   "metadata": {},
   "source": [
    "B6. What is the language from which Python has got its features or derived its features?\n",
    "\n",
    "AnsB6 - Python is derived from many other languages, including ABC, Modula-3, c, c++, Algol-68, Smalltalk, and Unix shell and other scripting languages."
   ]
  },
  {
   "cell_type": "code",
   "execution_count": 30,
   "id": "114c1a87",
   "metadata": {},
   "outputs": [
    {
     "name": "stdout",
     "output_type": "stream",
     "text": [
      "Variable is integer\n"
     ]
    }
   ],
   "source": [
    "# B7. Write a Python program to check if variable is of integer or string.\n",
    "\n",
    "#AnsB7 -\n",
    "\n",
    "a = 10\n",
    "\n",
    "if type(a) == int:\n",
    "    print(\"Variable is integer\")\n",
    "else:\n",
    "    print(\"variable is String\")\n",
    "    "
   ]
  },
  {
   "cell_type": "markdown",
   "id": "aee567a9",
   "metadata": {},
   "source": [
    "B8. Does python support switch or case statement in Python? If not what is the reason for the same?\n",
    "\n",
    "AnsB8 - Python doesn't have switch case statement because of Unsatisfactory Proposals. Most of the programming languages have switch/case because they don't have proper mapping constructs. you cannot map a value to a fucntion thats why they have it. But in python you can easily have a mapping table(dict) where a certain value maps to a certain function. Python functions are the first class values, you can use the functions as the values of the dictionary get(key[default]) Method. Performance wise, the python dictionary lookup will almost certainly be more efficient than any solution you can rig yourself."
   ]
  },
  {
   "cell_type": "markdown",
   "id": "c273b1e8",
   "metadata": {},
   "source": [
    "B9. How Python is interpreted?\n",
    "\n",
    "AnsB9 -> An interpreter is a kind of program that executes other programs. When you write Python programs , it converts source code written the developer into intermediate language which is again translated into the native language / machine language that is executed.The python code you write is compiled into python bytecode, which creates file with extension .pyc . The bytecode compilation happened internally, and almost completely hidden from developer. Compilation is simply a translation step, and byte code is a lower-level, and platform-independent , representation of your source code. Roughly, each of your source statements is translated into a group of byte code instructions. This byte code translation is performed to speed execution byte code can be run much quicker than the original source code statements.\n",
    "\n",
    "-> The .pyc file , created in compilation step, is then executed by appropriate virtual machines. The Virtual Machine just a big loop that iterates through your byte code instructions, one by one, to carry out their operations. The Virtual Machine is the runtime engine of Python and it is always present as part of the Python system, and is the component that truly runs the Python scripts . Technically, it's just the last step of what is called the Python interpreter."
   ]
  },
  {
   "cell_type": "code",
   "execution_count": 36,
   "id": "521e3313",
   "metadata": {},
   "outputs": [
    {
     "name": "stdout",
     "output_type": "stream",
     "text": [
      "Enter a number5\n",
      "The factorial of 5 is 120\n"
     ]
    }
   ],
   "source": [
    "# B10:- Write a Python program to get the Factorial number of given number.\n",
    "num = int(input(\"Enter a number\"))\n",
    "fact = 1\n",
    "for i in range(1,num+1):\n",
    "    fact = fact * i\n",
    "print(\"The factorial of\",num,\"is\", fact)"
   ]
  },
  {
   "cell_type": "code",
   "execution_count": 4,
   "id": "706c250d",
   "metadata": {},
   "outputs": [
    {
     "name": "stdout",
     "output_type": "stream",
     "text": [
      "How many terms to print in fibonacci series10\n",
      "Fibonacci Series:\n",
      "0\n",
      "1\n",
      "1\n",
      "2\n",
      "3\n",
      "5\n",
      "8\n",
      "13\n",
      "21\n",
      "34\n"
     ]
    }
   ],
   "source": [
    "# B11:- Write a Python program to get the Fibonacci series of given Range\n",
    "\n",
    "n = int(input(\"How many terms to print in fibonacci series\"))\n",
    "count = 0\n",
    "x,y = 0,1\n",
    "if n<=0:\n",
    "    print(\"Enter positive number\")\n",
    "else:\n",
    "    print(\"Fibonacci Series:\")\n",
    "    while count<n:\n",
    "        print(x)\n",
    "        x,y = y,x+y\n",
    "        count += 1"
   ]
  },
  {
   "cell_type": "markdown",
   "id": "3d4b6a4c",
   "metadata": {},
   "source": [
    "B12. How memory is managed in Python?\n",
    "\n",
    "AnsB12 - Understanding Memory allocation is important to any software developer as writing efficient code means writing a memory-efficient code. Memory allocation can be defined as allocating a block of space in the computer memory to a program. In Python memory allocation and deallocation method is automatic as the Python developers created a garbage collector for Python so that the user does not have to do manual garbage collection.\n",
    "\n",
    "#### Garbage Collection\n",
    "\n",
    "Garbage collection is a process in which the interpreter frees up the memory when not in use to make it available for other objects. Assume a case where no reference is pointing to an object in memory i.e. it is not in use so, the virtual machine has a garbage collector that automatically deletes that object from the heap memory.\n",
    "\n",
    "#### Reference Counting\n",
    "\n",
    "Reference counting works by counting the number of times an object is referenced by other objects in the system. When references to an object are removed, the reference count for an object is decremented. When the reference count becomes zero, the object is deallocated.\n",
    "\n",
    "For example, Let’s suppose there are two or more variables that have the same value, so, what Python virtual machine does is, rather than creating another object of the same value in the private heap, it actually makes the second variable point to that originally existing value in the private heap. Therefore, in the case of classes, having a number of references may occupy a large amount of space in the memory, in such a case referencing counting is highly beneficial to preserve the memory to be available for other objects.\n"
   ]
  },
  {
   "cell_type": "markdown",
   "id": "786cadb6",
   "metadata": {},
   "source": [
    "B13. What is namespace in Python?\n",
    "\n",
    "AnsB13 - A namespace is a system that has a unique name for each and every object in Python. An object might be a variable or a method. Python itself maintains a namespace in the form of a Python dictionary. \n",
    "\n",
    "#### The lifetime of a namespace :\n",
    " \n",
    "A lifetime of a namespace depends upon the scope of objects, if the scope of an object ends, the lifetime of that namespace comes to an end. Hence, it is not possible to access the inner namespace’s objects from an outer namespace."
   ]
  },
  {
   "cell_type": "markdown",
   "id": "130cec3b",
   "metadata": {},
   "source": [
    "B14. What is the purpose continue statement in python?\n",
    "\n",
    "AnsB14 - Using loops in Python automates and repeats the tasks in an efficient manner. But sometimes, there may arise a condition where you want to exit the loop completely, skip an iteration or ignore that condition. These can be done by loop control statements. Loop control statements change execution from its normal sequence. When execution leaves a scope, all automatic objects that were created in that scope are destroyed. \n",
    "\n",
    "#### Continue statement\n",
    "\n",
    "Continue is also a loop control statement just like the break statement. continue statement is opposite to that of break statement, instead of terminating the loop, it forces to execute the next iteration of the loop.\n",
    "As the name suggests the continue statement forces the loop to continue or execute the next iteration. When the continue statement is executed in the loop, the code inside the loop following the continue statement will be skipped and the next iteration of the loop will begin."
   ]
  },
  {
   "cell_type": "markdown",
   "id": "49d64c81",
   "metadata": {},
   "source": [
    "# Assignment Level Intermediate"
   ]
  },
  {
   "cell_type": "code",
   "execution_count": 1,
   "id": "f0fad413",
   "metadata": {},
   "outputs": [
    {
     "name": "stdout",
     "output_type": "stream",
     "text": [
      "Enter value of a12\n",
      "enter value of b13\n",
      "value of a and b before swapping 12 13\n",
      "value of a and b after swapping 13 12\n"
     ]
    }
   ],
   "source": [
    "# I1: Write python program that swap two number with temp variable and without temp variable.\n",
    "\n",
    "# First with temp variable.\n",
    "\n",
    "a = int(input(\"Enter value of a\"))\n",
    "b= int(input(\"enter value of b\"))\n",
    "\n",
    "print(\"value of a and b before swapping\",a,b)\n",
    "\n",
    "temp = a\n",
    "a = b\n",
    "b = temp\n",
    "print(\"value of a and b after swapping\",a,b)"
   ]
  },
  {
   "cell_type": "code",
   "execution_count": 5,
   "id": "5c433e86",
   "metadata": {},
   "outputs": [
    {
     "name": "stdout",
     "output_type": "stream",
     "text": [
      "Enter value of a12\n",
      "enter value of b13\n",
      "value of a and b before swapping 12 13\n",
      "value of a and b after swapping 13 12\n"
     ]
    }
   ],
   "source": [
    "# second way of swapping two values without using temp variable.\n",
    "\n",
    "a = int(input(\"Enter value of a\"))\n",
    "b= int(input(\"enter value of b\"))\n",
    "\n",
    "print(\"value of a and b before swapping\",a,b)\n",
    "\n",
    "a = a ^ b\n",
    "b = a ^ b\n",
    "a = a ^ b\n",
    "print(\"value of a and b after swapping\",a,b)"
   ]
  },
  {
   "cell_type": "code",
   "execution_count": 6,
   "id": "d232e34e",
   "metadata": {},
   "outputs": [
    {
     "name": "stdout",
     "output_type": "stream",
     "text": [
      "Enter value of a10\n",
      "enter value of b5\n",
      "value of a and b before swapping 10 5\n",
      "value of a and b after swapping 5 10\n"
     ]
    }
   ],
   "source": [
    "# Third way of swapping two values without using temp variable\n",
    "\n",
    "a = int(input(\"Enter value of a\"))\n",
    "b= int(input(\"enter value of b\"))\n",
    "\n",
    "print(\"value of a and b before swapping\",a,b)\n",
    "\n",
    "a = a + b # suppose value of a = 10 and b = 5 then result is 15\n",
    "b = a - b # 10\n",
    "a = a ^ b # 5 \n",
    "print(\"value of a and b after swapping\",a,b)"
   ]
  },
  {
   "cell_type": "code",
   "execution_count": 13,
   "id": "1ac466b5",
   "metadata": {},
   "outputs": [
    {
     "name": "stdout",
     "output_type": "stream",
     "text": [
      "Enter value--12\n",
      "No is even\n"
     ]
    }
   ],
   "source": [
    "# I2:- Write a Python program to find whether a given number is even or odd, print out an appropriate message to the user.\n",
    "\n",
    "a = int(input(\"Enter value--\"))\n",
    "\n",
    "if a == 0:\n",
    "    print(\"please enter value greater than zero\")\n",
    "elif a%2 == 0:\n",
    "    print(\"No is even\")\n",
    "else:\n",
    "    print(\"No is odd\")"
   ]
  },
  {
   "cell_type": "code",
   "execution_count": 17,
   "id": "f4b6954b",
   "metadata": {},
   "outputs": [
    {
     "name": "stdout",
     "output_type": "stream",
     "text": [
      "Enter base12\n",
      "Enter altitude22\n",
      "Area of triangle: 0.2727272727272727\n"
     ]
    }
   ],
   "source": [
    "# I3:- : Write a Python program that compute the area of following \n",
    "# 1) Triangle (accepts base and height)2) Circle (accept radius)\n",
    "\n",
    "# area of triangle\n",
    "\n",
    "b = int(input(\"Enter base\"))\n",
    "al = int(input(\"Enter altitude\"))\n",
    "\n",
    "t = 0.5*b/al\n",
    "\n",
    "print(\"Area of triangle:\",t)"
   ]
  },
  {
   "cell_type": "code",
   "execution_count": 18,
   "id": "3fe3a2be",
   "metadata": {},
   "outputs": [
    {
     "name": "stdout",
     "output_type": "stream",
     "text": [
      "Enter radius22\n",
      "Area of circle: 12\n"
     ]
    }
   ],
   "source": [
    "# area of circle\n",
    "\n",
    "r = int(input(\"Enter radius\"))\n",
    "\n",
    "c = 3.14*r\n",
    "\n",
    "print(\"Area of circle:\",a)"
   ]
  },
  {
   "cell_type": "code",
   "execution_count": 30,
   "id": "9b9e1413",
   "metadata": {},
   "outputs": [
    {
     "name": "stdout",
     "output_type": "stream",
     "text": [
      "Enter character-b\n",
      "s is not a vowel\n"
     ]
    }
   ],
   "source": [
    "# I4:- Write a Python program to test whether a passed letter is a vowel or not\n",
    "\n",
    "\n",
    "s = input(\"Enter character-\")\n",
    "\n",
    "if s == 'a':\n",
    "    print(\"s is a vowel\")\n",
    "elif s == 'e':\n",
    "    print(\"s is a vowel\")\n",
    "elif s == 'i':\n",
    "    print(\"s is a vowel\")\n",
    "elif s == 'o':\n",
    "    print(\"s is a vowel\")\n",
    "elif s == 'u':\n",
    "    print(\"s is a vowel\")\n",
    "else:\n",
    "    print(\"s is not a vowel\")"
   ]
  },
  {
   "cell_type": "code",
   "execution_count": 32,
   "id": "455a9046",
   "metadata": {},
   "outputs": [
    {
     "name": "stdout",
     "output_type": "stream",
     "text": [
      "Simple interest 12\n"
     ]
    }
   ],
   "source": [
    "# I5:-Write a Python program to compute the value of a specified principal amount, rate of interest, and a number of years\n",
    "\n",
    "p = 12\n",
    "i = 20\n",
    "y = 5\n",
    "\n",
    "si = p*i*y//100\n",
    "\n",
    "print(\"Simple interest\",si)"
   ]
  },
  {
   "cell_type": "markdown",
   "id": "c2e97783",
   "metadata": {},
   "source": [
    "##### I6. What are the tools that help to find bugs or perform static analysis?\n",
    "Ans -  \n",
    "        \n",
    "        Pychecker and Pylint are the static analysis tools that help to find bugs in python.\n",
    "\n",
    "Pychecker is an opensource tool for static analysis that detects the bugs from source code and warns about the style and complexity of the bug.\n",
    "\n",
    "Pylint is highly configurable and it acts like special programs to control warnings and errors, it is an extensive configuration file Pylint is also an opensource tool for static code analysis it looks for programming errors and is used for coding standard. it checks the length of each programming line. it checks the variable names according to the project style. it can also be used as a standalone program, it also integrates with python IDEs such as Pycharm, Spyder, Eclipse, and Jupyter"
   ]
  },
  {
   "cell_type": "markdown",
   "id": "f042ec09",
   "metadata": {},
   "source": [
    "###### I7. What are Python decorators?\n",
    "\n",
    "Ans - Decorators are very powerful and useful tool in Python since it allows programmers to modify the behavior of function or class. Decorators allow us to wrap another function in order to extend the behavior of the wrapped function, without permanently modifying it.\n"
   ]
  },
  {
   "cell_type": "markdown",
   "id": "c3558a69",
   "metadata": {},
   "source": [
    "###### I8.What is PEP 8?\n",
    "\n",
    "Ans- Indeed coding and applying logic is the foundation of any programming language but there’s also another factor that every coder must keep in mind while coding and that is the coding style. Keeping this in mind, Python maintains a strict way of order and format of scripting.Following this sometimes mandatory and is a great help on the user’s end, to understand. Making it easy for others to read code is always a good idea, and adopting a nice coding style helps tremendously for that.\n",
    "\n",
    "For Python, PEP 8 has emerged as the style guide that most projects adhere to; it promotes a very readable and eye-pleasing coding style. Every Python developer should read it at some point; here are the most important points extracted for you"
   ]
  },
  {
   "cell_type": "markdown",
   "id": "6b69f1d7",
   "metadata": {},
   "source": [
    "## Assignment Level Advance"
   ]
  },
  {
   "cell_type": "code",
   "execution_count": 9,
   "id": "ea856cd1",
   "metadata": {},
   "outputs": [
    {
     "name": "stdout",
     "output_type": "stream",
     "text": [
      "Enter first number to sort---->22\n",
      "Enter second number to sort---->222\n",
      "Enter third number to sort----->2222\n",
      "After sorting--> 22 222 2222\n"
     ]
    }
   ],
   "source": [
    "# A1:- Write a Python program to sort three integers without using conditional statements and loops.\n",
    "\n",
    "# Ans -\n",
    "\n",
    "a = int(input(\"Enter first number to sort---->\"))\n",
    "b = int(input(\"Enter second number to sort---->\"))\n",
    "c = int(input(\"Enter third number to sort----->\"))\n",
    "\n",
    "a1 = max(a,b,c)\n",
    "b1 = min(a,b,c)\n",
    "btwn = a+b+c-a1-b1\n",
    "\n",
    "print(\"After sorting-->\",a,b,c)"
   ]
  },
  {
   "cell_type": "code",
   "execution_count": 27,
   "id": "69679c2a",
   "metadata": {},
   "outputs": [
    {
     "name": "stdout",
     "output_type": "stream",
     "text": [
      "Enter number-->6\n",
      "738\n"
     ]
    }
   ],
   "source": [
    "# A2:- Write a Python program that accepts an integer (n) and computes the value of n+nn+nnn.\n",
    "\n",
    "# Ans -\n",
    "\n",
    "n = int(input(\"Enter number-->\"))\n",
    "\n",
    "comp = (n+(n*11) + (n*111))\n",
    "\n",
    "print(comp)"
   ]
  },
  {
   "cell_type": "code",
   "execution_count": 2,
   "id": "718e5cce",
   "metadata": {},
   "outputs": [
    {
     "name": "stdout",
     "output_type": "stream",
     "text": [
      "Enter first number-12\n",
      "Enter second number-13\n",
      "Enter third number-12\n",
      "0\n"
     ]
    }
   ],
   "source": [
    "# A3:- Write a Python program to sum of three given integers.However, if two values are equal sum will be zero.\n",
    "\n",
    "a = int(input(\"Enter first number-\"))\n",
    "b = int(input(\"Enter second number-\"))\n",
    "c = int(input(\"Enter third number-\"))\n",
    "\n",
    "if a==b or a==c or b==c:\n",
    "    print(0)\n",
    "else:\n",
    "    print(a+b+c)"
   ]
  },
  {
   "cell_type": "code",
   "execution_count": 5,
   "id": "35cb0a45",
   "metadata": {},
   "outputs": [
    {
     "name": "stdout",
     "output_type": "stream",
     "text": [
      "Enter first number-15\n",
      "Enter second number-10\n",
      "True\n"
     ]
    }
   ],
   "source": [
    "# A4:- Write a Python program that will return true if the two given integer values are equal or their sum or difference is 5.\n",
    "\n",
    "a = int(input(\"Enter first number-\"))\n",
    "b = int(input(\"Enter second number-\"))\n",
    "\n",
    "if a==b or (a-b)==5:\n",
    "    print(\"True\")    \n",
    "else:\n",
    "    print(\"False\")"
   ]
  },
  {
   "cell_type": "code",
   "execution_count": 1,
   "id": "fb829d07",
   "metadata": {},
   "outputs": [
    {
     "name": "stdout",
     "output_type": "stream",
     "text": [
      "How many numbers to add-->5\n",
      "15.0\n"
     ]
    }
   ],
   "source": [
    "# A5:- Write a python program to sum of the first n positive integers.\n",
    "\n",
    "num = int(input(\"How many numbers to add-->\"))\n",
    "\n",
    "sumn = (num *(num+1))/2\n",
    "\n",
    "print(sumn)"
   ]
  },
  {
   "cell_type": "markdown",
   "id": "ed5bbbe5",
   "metadata": {},
   "source": [
    "## Topic: String manipulation Accessing String,Basic Operation,String slice,Function and method"
   ]
  },
  {
   "cell_type": "markdown",
   "id": "94f237cd",
   "metadata": {},
   "source": [
    "## Assignment Level Basic"
   ]
  },
  {
   "cell_type": "code",
   "execution_count": 4,
   "id": "b1830323",
   "metadata": {},
   "outputs": [
    {
     "name": "stdout",
     "output_type": "stream",
     "text": [
      "Enter a stringdarshil\n",
      "Length of a string is-------> 7\n"
     ]
    }
   ],
   "source": [
    "# B1.Write a Python program to calculate the length of a string.\n",
    "\n",
    "#AnsB1 - \n",
    "\n",
    "s = input(\"Enter a string\")\n",
    "print(\"Length of a string is------->\",len(s))"
   ]
  },
  {
   "cell_type": "code",
   "execution_count": 24,
   "id": "1eb321df",
   "metadata": {},
   "outputs": [
    {
     "name": "stdout",
     "output_type": "stream",
     "text": [
      "Enter a string--->sdjfnaurievnaimerailnmalksnfdvoimaerjoieav\n",
      "Enter a character to count-->f\n"
     ]
    },
    {
     "data": {
      "text/plain": [
       "2"
      ]
     },
     "execution_count": 24,
     "metadata": {},
     "output_type": "execute_result"
    }
   ],
   "source": [
    "# B2.Write a Python program to count the number of characters (character frequency) in a string.\n",
    "\n",
    "#AnsB2 - \n",
    "\n",
    "s = input(\"Enter a string--->\")\n",
    "\n",
    "s.count(input(\"Enter a character to count-->\"))\n"
   ]
  },
  {
   "cell_type": "markdown",
   "id": "50a0c764",
   "metadata": {},
   "source": [
    "B3. What are negative indexes and why are they used?\n",
    "\n",
    "AnsB3 - To access an element from ordered sequences, we simply use the index of the element, which is the number of the position of that element. The index usually starts from 0, meaning that the first element has the index 0 and the second has 1, and so on.\n",
    "\n",
    "When we use the index to access elements from the end of a list, it’s called reverse indexing. In reverse indexing, the indexing of elements start from the last element with the index number being ‘−1’. The second last element has the index ‘−2’, and so on. These indexes used in reverse indexing are called negative indexes.\n",
    "\n"
   ]
  },
  {
   "cell_type": "markdown",
   "id": "d549c310",
   "metadata": {},
   "source": [
    "B4. Explain split(), sub(), subn() methods of “re” module in Python.\n",
    "\n",
    "AnsB4- To modify the strings, Python’s “re” module is providing 3 methods. They are:\n",
    "\n",
    "1. sub() – finds all substrings where the regex pattern matches and then replace them with a different string\n",
    "\n",
    "2. split() – uses a regex pattern to “split” a given string into a list.\n",
    "\n",
    "3. subn() – being similar to sub() it also returns the new string along with the number of replacements."
   ]
  },
  {
   "cell_type": "markdown",
   "id": "e85dbc40",
   "metadata": {},
   "source": [
    "B5.How do you perform pattern matching in Python? Explain\n",
    "\n",
    "AnsB5 - You may be familiar with searching for text by pressing ctrl-F and typing in the words you’re looking for. Regular expressions go one step further: They allow you to specify a pattern of text to search for.\n",
    "Regular expressions, called regexes for short, are descriptions for a pattern of text. For example, a \\d in a regex stands for a digit character — that is, any single numeral 0 to 9.\n",
    "\n",
    "Following regex is used in Python to match a string of three numbers, a hyphen, three more numbers, another hyphen, and four numbers.\n",
    "\n",
    "Any other string would not match the pattern.\n",
    "\\d\\d\\d-\\d\\d\\d-\\d\\d\\d\\d\n",
    "\n",
    "Regular expressions can be much more sophisticated. For example, adding a 3 in curly brackets ({3}) after a pattern is like saying, “ Match this pattern three times.” So the slightly shorter regex\n",
    "\\d{3}-\\d{3}-\\d{4}\n",
    "\n",
    "\n",
    "(It matches the correct phone number format.)"
   ]
  },
  {
   "cell_type": "code",
   "execution_count": 27,
   "id": "35231d5b",
   "metadata": {},
   "outputs": [
    {
     "name": "stdout",
     "output_type": "stream",
     "text": [
      "Enter a string-->hellohellhello\n",
      "Select a substring to find its occurences-->hell\n",
      "It occured--> 3 Times\n"
     ]
    }
   ],
   "source": [
    "# B6. Write a Python program to count occurrences of a substring in a string.\n",
    "\n",
    "st = input(\"Enter a string-->\")\n",
    "\n",
    "x = st.count(input(\"Select a substring to find its occurences-->\"))\n",
    "\n",
    "print(\"It occured-->\",x,\"Times\")"
   ]
  },
  {
   "cell_type": "code",
   "execution_count": 55,
   "id": "c37d14b1",
   "metadata": {},
   "outputs": [
    {
     "name": "stdout",
     "output_type": "stream",
     "text": [
      "{'the': 1, 'word': 1, 'is': 1, 'repeating': 1, 'in': 1, 'a': 1, 'sentence.': 1}\n"
     ]
    }
   ],
   "source": [
    "# B7. Write a Python program to count the occurrences of each word in a given sentence.\n",
    "\n",
    "str = \"the word is the word repeating in a sentence.\"\n",
    "counts = dict()\n",
    "words = str.split()\n",
    "\n",
    "for i in words:\n",
    "    if word in counts:\n",
    "        counts[i] += 1\n",
    "    else:\n",
    "         counts[i] = 1\n",
    "print(counts)        "
   ]
  },
  {
   "cell_type": "markdown",
   "id": "df29a8a9",
   "metadata": {},
   "source": [
    "## Assignment Level Intermediate\n"
   ]
  },
  {
   "cell_type": "code",
   "execution_count": 3,
   "id": "25306b05",
   "metadata": {},
   "outputs": [
    {
     "name": "stdout",
     "output_type": "stream",
     "text": [
      "Enter first string:darshil\n",
      "Enter second sting:Darshil\n",
      "first string after swapping first two characters with second--> Darshil\n",
      "second string after swapping first two characters with first--> darshil\n"
     ]
    }
   ],
   "source": [
    "# I1.Write a Python program to get a single string from two given strings, \n",
    "# separated by a space and swap the first two characters of each string.\n",
    "\n",
    "# Ans - \n",
    "\n",
    "a = input(\"Enter first string:\")\n",
    "\n",
    "b = input(\"Enter second sting:\")\n",
    "\n",
    "x = a.replace(a[0:2],b[0:2])\n",
    "\n",
    "y = b.replace(b[0:2],a[0:2])\n",
    "\n",
    "print(\"first string after swapping first two characters with second-->\",x)\n",
    "\n",
    "print(\"second string after swapping first two characters with first-->\",y)\n",
    "\n"
   ]
  },
  {
   "cell_type": "code",
   "execution_count": 20,
   "id": "ffaaaac1",
   "metadata": {},
   "outputs": [
    {
     "name": "stdout",
     "output_type": "stream",
     "text": [
      "Enter a stringhappily\n",
      "happilying\n"
     ]
    }
   ],
   "source": [
    "# I2.Write a Python program to add 'ing' at the end of a given string\n",
    "# (length should be at least 3). If the given string already ends with 'ing' then add 'ly' instead \n",
    "# If the string length of the given string is less than 3, leave it unchanged\n",
    "\n",
    "ing = input(\"Enter a string\") \n",
    "\n",
    "if len(ing) > 2:\n",
    "    if ing[-3:] == 'ing':\n",
    "        ing +='Ly'\n",
    "    else:\n",
    "        ing += 'ing'\n",
    "    print(ing)\n",
    "\n",
    "else:\n",
    "    print(\"please enter atleast three letter string\")\n",
    "    "
   ]
  },
  {
   "cell_type": "code",
   "execution_count": 34,
   "id": "126a5f46",
   "metadata": {},
   "outputs": [
    {
     "name": "stdout",
     "output_type": "stream",
     "text": [
      "Enter a string-->your idea is not poor\n",
      "your idea is good\n"
     ]
    }
   ],
   "source": [
    "# I3.Write a Python program to find the first appearance of the substring 'not'\n",
    "# and 'poor' from a given string, if 'not' follows the 'poor', replace the whole 'not'...'poor' \n",
    "# substring with 'good'. Return the resulting string.\n",
    "\n",
    "re = input(\"Enter a string-->\")\n",
    "\n",
    "if 'not poor' in re:\n",
    "    x = re.replace('not poor','good')\n",
    "    print(x)"
   ]
  },
  {
   "cell_type": "code",
   "execution_count": 44,
   "id": "58e734a5",
   "metadata": {},
   "outputs": [
    {
     "name": "stdout",
     "output_type": "stream",
     "text": [
      "Enter words seperated by comma's-->aa,cc,dd,b,g,e,e,ds,z,dfgd,b,gfxbxf\n",
      "gfxbxf is the longest word among 12 words\n"
     ]
    }
   ],
   "source": [
    "# I4. Write a Python function that takes a list of words and returns the length of the longest one.\n",
    "\n",
    "lw = input(\"Enter words seperated by comma's-->\")\n",
    "\n",
    "l = lw.split(',')\n",
    "\n",
    "longest = 0\n",
    "\n",
    "for i in l:\n",
    "    if len(i) > longest:\n",
    "        longest = len(i)\n",
    "        longword = i\n",
    "print(f\"{longword} is the longest word among {len(l)} words\") "
   ]
  },
  {
   "cell_type": "code",
   "execution_count": 60,
   "id": "e3f059c7",
   "metadata": {},
   "outputs": [
    {
     "name": "stdout",
     "output_type": "stream",
     "text": [
      "Enter a string-->darshill\n",
      "llihsrad\n"
     ]
    }
   ],
   "source": [
    "# I5. Write a Python function to reverses a string if it's length is a multiple of 4\n",
    "\n",
    "s = input(\"Enter a string-->\")\n",
    "\n",
    "leng = len(s)\n",
    "\n",
    "if leng % 4 == 0:\n",
    "    print(s[::-1])\n",
    "else:\n",
    "    print(\"Entered string is not a multiple of 4\")"
   ]
  },
  {
   "cell_type": "markdown",
   "id": "8b85e485",
   "metadata": {},
   "source": [
    "## Assignment Level Advance\n"
   ]
  },
  {
   "cell_type": "code",
   "execution_count": 17,
   "id": "53b89e24",
   "metadata": {},
   "outputs": [
    {
     "name": "stdout",
     "output_type": "stream",
     "text": [
      "Enter a stringw3resource\n",
      "w3ce\n"
     ]
    }
   ],
   "source": [
    "# A1.Write a Python program to get a string made of the first 2 and the last 2 chars\n",
    "# from a given a string. If the string length is less than 2, return instead of the empty string. \n",
    "# Go to the editor\n",
    "# Sample String : 'w3resource' \n",
    "# Expected Result : 'w3ce' \n",
    "# Sample String : 'w3' \n",
    "# Expected Result : 'w3w3' \n",
    "# Sample String : ' w'\n",
    "# Expected Result : Empty String\n",
    "\n",
    "\n",
    "ss = input(\"Enter a string\")\n",
    "\n",
    "if len(ss) < 2:\n",
    "    print()\n",
    "else:    \n",
    "    se = ss[0:2] + ss[-2:]\n",
    "    print(se)"
   ]
  },
  {
   "cell_type": "code",
   "execution_count": 16,
   "id": "f98bab2f",
   "metadata": {},
   "outputs": [
    {
     "name": "stdout",
     "output_type": "stream",
     "text": [
      "Enter a string-->return\n",
      "retu$n\n"
     ]
    }
   ],
   "source": [
    "# A2.Write a Python program to get a string from a given string where all occurrences \n",
    "# of its first char have been changed to '$', except the first char itself\n",
    "\n",
    "st = input(\"Enter a string-->\")\n",
    "\n",
    "char = st[0]\n",
    "\n",
    "st = st.replace(char,'$')\n",
    "\n",
    "st = char + st[1:]\n",
    "\n",
    "print(st)"
   ]
  },
  {
   "cell_type": "code",
   "execution_count": 14,
   "id": "c0aa2e8f",
   "metadata": {},
   "outputs": [
    {
     "name": "stdout",
     "output_type": "stream",
     "text": [
      "Enter a string-->python is best easy to learn\n",
      "Now enter a string you want to insert in middle of a stringand\n",
      "python is bestand easy to learn\n"
     ]
    }
   ],
   "source": [
    "# A3. Write a Python function to insert a string in the middle of a string.\n",
    "\n",
    "m = input(\"Enter a string-->\")\n",
    "\n",
    "n = input(\"Now enter a string you want to insert in middle of a string\")\n",
    "\n",
    "mid = len(m)//2\n",
    "\n",
    "print(m[:mid]+ n +m[mid:])"
   ]
  }
 ],
 "metadata": {
  "kernelspec": {
   "display_name": "Python 3",
   "language": "python",
   "name": "python3"
  },
  "language_info": {
   "codemirror_mode": {
    "name": "ipython",
    "version": 3
   },
   "file_extension": ".py",
   "mimetype": "text/x-python",
   "name": "python",
   "nbconvert_exporter": "python",
   "pygments_lexer": "ipython3",
   "version": "3.8.8"
  }
 },
 "nbformat": 4,
 "nbformat_minor": 5
}
